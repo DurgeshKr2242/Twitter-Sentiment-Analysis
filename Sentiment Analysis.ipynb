{
 "cells": [
  {
   "cell_type": "markdown",
   "id": "a8d4cb97",
   "metadata": {
    "toc": true
   },
   "source": [
    "<h1>Table of Contents<span class=\"tocSkip\"></span></h1>\n",
    "<div class=\"toc\"><ul class=\"toc-item\"><li><span><a href=\"#Importing-Libraries/-Datasets\" data-toc-modified-id=\"Importing-Libraries/-Datasets-1\"><span class=\"toc-item-num\">1&nbsp;&nbsp;</span>Importing Libraries/ Datasets</a></span><ul class=\"toc-item\"><li><span><a href=\"#Importing-Libraries\" data-toc-modified-id=\"Importing-Libraries-1.1\"><span class=\"toc-item-num\">1.1&nbsp;&nbsp;</span>Importing Libraries</a></span></li><li><span><a href=\"#Importing-the-Dataset\" data-toc-modified-id=\"Importing-the-Dataset-1.2\"><span class=\"toc-item-num\">1.2&nbsp;&nbsp;</span>Importing the Dataset</a></span></li></ul></li><li><span><a href=\"#Preparing-The-Dataset\" data-toc-modified-id=\"Preparing-The-Dataset-2\"><span class=\"toc-item-num\">2&nbsp;&nbsp;</span>Preparing The Dataset</a></span><ul class=\"toc-item\"><li><span><a href=\"#Droping-The-Unwanted-Cols\" data-toc-modified-id=\"Droping-The-Unwanted-Cols-2.1\"><span class=\"toc-item-num\">2.1&nbsp;&nbsp;</span>Droping The Unwanted Cols</a></span></li><li><span><a href=\"#Taking-Care-of-Sentiment-Column\" data-toc-modified-id=\"Taking-Care-of-Sentiment-Column-2.2\"><span class=\"toc-item-num\">2.2&nbsp;&nbsp;</span>Taking Care of Sentiment Column</a></span></li><li><span><a href=\"#Cleaning-the-Text\" data-toc-modified-id=\"Cleaning-the-Text-2.3\"><span class=\"toc-item-num\">2.3&nbsp;&nbsp;</span>Cleaning the Text</a></span></li><li><span><a href=\"#Tokenization\" data-toc-modified-id=\"Tokenization-2.4\"><span class=\"toc-item-num\">2.4&nbsp;&nbsp;</span>Tokenization</a></span></li><li><span><a href=\"#Padding\" data-toc-modified-id=\"Padding-2.5\"><span class=\"toc-item-num\">2.5&nbsp;&nbsp;</span>Padding</a></span></li><li><span><a href=\"#Train---Test-Split\" data-toc-modified-id=\"Train---Test-Split-2.6\"><span class=\"toc-item-num\">2.6&nbsp;&nbsp;</span>Train - Test Split</a></span></li></ul></li><li><span><a href=\"#Model-Building\" data-toc-modified-id=\"Model-Building-3\"><span class=\"toc-item-num\">3&nbsp;&nbsp;</span>Model Building</a></span></li><li><span><a href=\"#Creating-Checkpoint\" data-toc-modified-id=\"Creating-Checkpoint-4\"><span class=\"toc-item-num\">4&nbsp;&nbsp;</span>Creating Checkpoint</a></span></li><li><span><a href=\"#Training-The-Model\" data-toc-modified-id=\"Training-The-Model-5\"><span class=\"toc-item-num\">5&nbsp;&nbsp;</span>Training The Model</a></span></li><li><span><a href=\"#Evaluating-The-Model\" data-toc-modified-id=\"Evaluating-The-Model-6\"><span class=\"toc-item-num\">6&nbsp;&nbsp;</span>Evaluating The Model</a></span></li></ul></div>"
   ]
  },
  {
   "cell_type": "markdown",
   "id": "475dfd3b",
   "metadata": {},
   "source": [
    "# Importing Libraries/ Datasets\n"
   ]
  },
  {
   "cell_type": "markdown",
   "id": "31f5b191",
   "metadata": {},
   "source": [
    "## Importing Libraries"
   ]
  },
  {
   "cell_type": "code",
   "execution_count": 1,
   "id": "07a12ede",
   "metadata": {
    "ExecuteTime": {
     "end_time": "2021-07-16T11:56:36.650094Z",
     "start_time": "2021-07-16T11:56:33.115390Z"
    }
   },
   "outputs": [],
   "source": [
    "import numpy as np\n",
    "import pandas as pd\n",
    "import matplotlib.pyplot as plt\n",
    "import tensorflow as tf\n",
    "import re\n",
    "from bs4 import BeautifulSoup\n",
    "import math\n",
    "from tensorflow.keras import layers\n",
    "import tensorflow_datasets as tfds"
   ]
  },
  {
   "cell_type": "markdown",
   "id": "827e03e3",
   "metadata": {},
   "source": [
    "## Importing the Dataset"
   ]
  },
  {
   "cell_type": "code",
   "execution_count": 2,
   "id": "a194ee9a",
   "metadata": {
    "ExecuteTime": {
     "end_time": "2021-07-16T11:56:47.668125Z",
     "start_time": "2021-07-16T11:56:36.650916Z"
    }
   },
   "outputs": [],
   "source": [
    "cols = [\"sentiment\", \"id\", \"date\", \"query\", \"user\", \"text\"]\n",
    "\n",
    "df = pd.read_csv('training.1600000.csv',names=cols, header=None,engine=\"python\",encoding=\"latin1\")"
   ]
  },
  {
   "cell_type": "markdown",
   "id": "f6509c4d",
   "metadata": {},
   "source": [
    "# Preparing The Dataset"
   ]
  },
  {
   "cell_type": "markdown",
   "id": "c57d68e1",
   "metadata": {},
   "source": [
    "## Droping The Unwanted Cols"
   ]
  },
  {
   "cell_type": "code",
   "execution_count": 3,
   "id": "a62fb7b0",
   "metadata": {
    "ExecuteTime": {
     "end_time": "2021-07-16T11:56:47.912393Z",
     "start_time": "2021-07-16T11:56:47.668125Z"
    }
   },
   "outputs": [],
   "source": [
    "df.drop(['id', 'date', 'query', 'user'], axis = 1, inplace = True)"
   ]
  },
  {
   "cell_type": "code",
   "execution_count": 4,
   "id": "66995ed3",
   "metadata": {
    "ExecuteTime": {
     "end_time": "2021-07-16T11:56:47.940667Z",
     "start_time": "2021-07-16T11:56:47.916428Z"
    }
   },
   "outputs": [
    {
     "data": {
      "text/html": [
       "<div>\n",
       "<style scoped>\n",
       "    .dataframe tbody tr th:only-of-type {\n",
       "        vertical-align: middle;\n",
       "    }\n",
       "\n",
       "    .dataframe tbody tr th {\n",
       "        vertical-align: top;\n",
       "    }\n",
       "\n",
       "    .dataframe thead th {\n",
       "        text-align: right;\n",
       "    }\n",
       "</style>\n",
       "<table border=\"1\" class=\"dataframe\">\n",
       "  <thead>\n",
       "    <tr style=\"text-align: right;\">\n",
       "      <th></th>\n",
       "      <th>sentiment</th>\n",
       "      <th>text</th>\n",
       "    </tr>\n",
       "  </thead>\n",
       "  <tbody>\n",
       "    <tr>\n",
       "      <th>0</th>\n",
       "      <td>0</td>\n",
       "      <td>@switchfoot http://twitpic.com/2y1zl - Awww, t...</td>\n",
       "    </tr>\n",
       "    <tr>\n",
       "      <th>1</th>\n",
       "      <td>0</td>\n",
       "      <td>is upset that he can't update his Facebook by ...</td>\n",
       "    </tr>\n",
       "    <tr>\n",
       "      <th>2</th>\n",
       "      <td>0</td>\n",
       "      <td>@Kenichan I dived many times for the ball. Man...</td>\n",
       "    </tr>\n",
       "    <tr>\n",
       "      <th>3</th>\n",
       "      <td>0</td>\n",
       "      <td>my whole body feels itchy and like its on fire</td>\n",
       "    </tr>\n",
       "    <tr>\n",
       "      <th>4</th>\n",
       "      <td>0</td>\n",
       "      <td>@nationwideclass no, it's not behaving at all....</td>\n",
       "    </tr>\n",
       "  </tbody>\n",
       "</table>\n",
       "</div>"
      ],
      "text/plain": [
       "   sentiment                                               text\n",
       "0          0  @switchfoot http://twitpic.com/2y1zl - Awww, t...\n",
       "1          0  is upset that he can't update his Facebook by ...\n",
       "2          0  @Kenichan I dived many times for the ball. Man...\n",
       "3          0    my whole body feels itchy and like its on fire \n",
       "4          0  @nationwideclass no, it's not behaving at all...."
      ]
     },
     "execution_count": 4,
     "metadata": {},
     "output_type": "execute_result"
    }
   ],
   "source": [
    "df.head()"
   ]
  },
  {
   "cell_type": "code",
   "execution_count": 5,
   "id": "316f4052",
   "metadata": {
    "ExecuteTime": {
     "end_time": "2021-07-16T11:56:47.956061Z",
     "start_time": "2021-07-16T11:56:47.942644Z"
    }
   },
   "outputs": [
    {
     "data": {
      "text/plain": [
       "(1600000, 2)"
      ]
     },
     "execution_count": 5,
     "metadata": {},
     "output_type": "execute_result"
    }
   ],
   "source": [
    "df.shape"
   ]
  },
  {
   "cell_type": "markdown",
   "id": "f4aab645",
   "metadata": {},
   "source": [
    "## Taking Care of Sentiment Column "
   ]
  },
  {
   "cell_type": "code",
   "execution_count": 6,
   "id": "08fcdc1f",
   "metadata": {
    "ExecuteTime": {
     "end_time": "2021-07-16T11:56:47.988861Z",
     "start_time": "2021-07-16T11:56:47.956061Z"
    }
   },
   "outputs": [
    {
     "name": "stdout",
     "output_type": "stream",
     "text": [
      "[0 4]\n"
     ]
    }
   ],
   "source": [
    "print(df['sentiment'].unique())"
   ]
  },
  {
   "cell_type": "code",
   "execution_count": 7,
   "id": "189ffb04",
   "metadata": {
    "ExecuteTime": {
     "end_time": "2021-07-16T11:56:48.121369Z",
     "start_time": "2021-07-16T11:56:47.988861Z"
    }
   },
   "outputs": [
    {
     "data": {
      "text/plain": [
       "{0, 1}"
      ]
     },
     "execution_count": 7,
     "metadata": {},
     "output_type": "execute_result"
    }
   ],
   "source": [
    "df_labels = df['sentiment'].values\n",
    "df_labels[df_labels == 4] = 1\n",
    "set(df_labels)"
   ]
  },
  {
   "cell_type": "markdown",
   "id": "92031312",
   "metadata": {},
   "source": [
    "## Cleaning the Text"
   ]
  },
  {
   "cell_type": "code",
   "execution_count": 8,
   "id": "d0efe101",
   "metadata": {
    "ExecuteTime": {
     "end_time": "2021-07-16T11:57:34.190638Z",
     "start_time": "2021-07-16T11:56:48.121369Z"
    }
   },
   "outputs": [],
   "source": [
    "import nltk\n",
    "corpus = []\n",
    "for i in range(0, 1600000):\n",
    "    text = re.sub(r'@[A-Za-z0-9]+', ' ', df['text'][i])       #Removing @\n",
    "    text = re.sub(r'https?://[A-Za-z0-9./]+', ' ', df['text'][i])     #Removing website(url) links\n",
    "\n",
    "    text = re.sub('[^a-zA-Z!.?]', ' ', df['text'][i])\n",
    "    text = text.lower()\n",
    "    text = text.split()    \n",
    "    text = ' '.join(text)\n",
    "    corpus.append(text)"
   ]
  },
  {
   "cell_type": "code",
   "execution_count": 10,
   "id": "cf00aff6",
   "metadata": {
    "ExecuteTime": {
     "end_time": "2021-07-16T11:57:34.287588Z",
     "start_time": "2021-07-16T11:57:34.207644Z"
    }
   },
   "outputs": [
    {
     "data": {
      "text/plain": [
       "['switchfoot http twitpic.com y zl awww that s a bummer. you shoulda got david carr of third day to do it. d',\n",
       " 'is upset that he can t update his facebook by texting it... and might cry as a result school today also. blah!',\n",
       " 'kenichan i dived many times for the ball. managed to save the rest go out of bounds',\n",
       " 'my whole body feels itchy and like its on fire',\n",
       " 'nationwideclass no it s not behaving at all. i m mad. why am i here? because i can t see you all over there.',\n",
       " 'kwesidei not the whole crew',\n",
       " 'need a hug',\n",
       " 'loltrish hey long time no see! yes.. rains a bit only a bit lol i m fine thanks how s you ?',\n",
       " 'tatiana k nope they didn t have it',\n",
       " 'twittera que me muera ?',\n",
       " 'spring break in plain city... it s snowing',\n",
       " 'i just re pierced my ears',\n",
       " 'caregiving i couldn t bear to watch it. and i thought the ua loss was embarrassing . . . . .',\n",
       " 'octolinz it it counts idk why i did either. you never talk to me anymore',\n",
       " 'smarrison i would ve been the first but i didn t have a gun. not really though zac snyder s just a doucheclown.',\n",
       " 'iamjazzyfizzle i wish i got to watch it with you!! i miss you and iamlilnicki how was the premiere?!',\n",
       " 'hollis death scene will hurt me severely to watch on film wry is directors cut not out now?',\n",
       " 'about to file taxes',\n",
       " 'lettya ahh ive always wanted to see rent love the soundtrack!!',\n",
       " 'fakerpattypattz oh dear. were you drinking out of the forgotten table drinks?',\n",
       " 'alydesigns i was out most of the day so didn t get much done',\n",
       " 'one of my friend called me and asked to meet with her at mid valley today...but i ve no time sigh',\n",
       " 'angry barista i baked you a cake but i ated it',\n",
       " 'this week is not going as i had hoped',\n",
       " 'blagh class at tomorrow',\n",
       " 'i hate when i have to call and wake people up',\n",
       " 'just going to cry myself to sleep after watching marley and me.',\n",
       " 'im sad now miss.lilly',\n",
       " 'ooooh.... lol that leslie.... and ok i won t do it again so leslie won t get mad again',\n",
       " 'meh... almost lover is the exception... this track gets me depressed every time.',\n",
       " 'some hacked my account on aim now i have to make a new one',\n",
       " 'alielayus i want to go to promote gear and groove but unfornately no ride there i may b going to the one in anaheim in may though',\n",
       " 'thought sleeping in was an option tomorrow but realizing that it now is not. evaluations in the morning and work in the afternoon!',\n",
       " 'julieebaby awe i love you too!!!! am here i miss you',\n",
       " 'humpninja i cry my asian eyes to sleep at night',\n",
       " 'ok i m sick and spent an hour sitting in the shower cause i was too sick to stand and held back the puke like a champ. bed now',\n",
       " 'cocomix ill tell ya the story later not a good day and ill be workin for like three more hours...',\n",
       " 'missxu sorry! bed time came here gmt http is.gd fnge',\n",
       " 'fleurylis i don t either. its depressing. i don t think i even want to know about the kids in suitcases.',\n",
       " 'bed. class . work . gym or . then class . another day that s gonna fly by. i miss my girlfriend',\n",
       " 'really don t feel like getting up today... but got to study to for tomorrows practical exam...',\n",
       " 'he s the reason for the teardrops on my guitar the only one who has enough of me to break my heart',\n",
       " 'sad sad sad. i don t know why but i hate this feeling i wanna sleep and i still can t!',\n",
       " 'jonathanrknight awww i soo wish i was there to see you finally comfortable! im sad that i missed it',\n",
       " 'falling asleep. just heard about that tracy girl s body being found. how sad my heart breaks for that family.',\n",
       " 'viennah yay! i m happy for you with your job! but that also means less time for me and you...',\n",
       " 'just checked my user timeline on my blackberry it looks like the twanking is still happening are ppl still having probs w bgs and uids?',\n",
       " 'oh man...was ironing jeancjumbe s fave top to wear to a meeting. burnt it',\n",
       " 'is strangely sad about lilo and samro breaking up.',\n",
       " 'tea oh! i m so sorry i didn t think about that before retweeting.',\n",
       " 'broadband plan a massive broken promise http tinyurl.com dcuc via www.diigo.com tautao still waiting for broadband we are',\n",
       " 'localtweeps wow tons of replies from you may have to unfollow so i can see my friends tweets you re scrolling the feed a lot.',\n",
       " 'our duck and chicken are taking wayyy too long to hatch',\n",
       " 'put vacation photos online a few yrs ago. pc crashed and now i forget the name of the site.',\n",
       " 'i need a hug',\n",
       " 'andywana not sure what they are only that they are pos! as much as i want to i dont think can trade away company assets sorry andy!',\n",
       " 'oanhlove i hate when that happens...',\n",
       " 'i have a sad feeling that dallas is not going to show up i gotta say though you d think more shows would use music from the game. mmm',\n",
       " 'ugh.... degrees tomorrow',\n",
       " 'where did u move to? i thought u were already in sd. ?? hmmm. random u found me. glad to hear yer doing well.',\n",
       " 'batmanyng i miss my ps it s out of commission wutcha playing? have you copped blood on the sand ?',\n",
       " 'just leaving the parking lot of work!',\n",
       " 'the life is cool. but not for me.',\n",
       " 'sadly though i ve never gotten to experience the post coitus cigarette before and now i never will.',\n",
       " 'i had such a nice day. too bad the rain comes in tomorrow at am',\n",
       " 'starrbby too bad i won t be around i lost my job and can t even pay my phone bill lmao aw shucks',\n",
       " 'damm back to school tomorrow',\n",
       " 'mo jobs no money. how in the hell is min wage here f n clams an hour?',\n",
       " 'katortiz not forever... see you soon!',\n",
       " 'lt algonquin agreed i saw the failwhale allllll day today.',\n",
       " 'jdarter oh! haha... dude i dont really look at em unless someone says hey i added you. sorry i m so terrible at that. i need a pop up!',\n",
       " 'ninjen i m sure you re right... i need to start working out with you and the nikster... or jared at least!',\n",
       " 'i really hate how people diss my bands! trace is clearly not ugly!',\n",
       " 'gym attire today was puma singlet adidas shorts.......and black business socks and leather shoes lucky did not run into any cute girls.',\n",
       " 'why won t you show my location?! http twitpic.com y es',\n",
       " 'no picnic my phone smells like citrus.',\n",
       " 'ashleyac my donkey is sensitive about such comments. nevertheless he d and me d be glad to see your mug asap. charger is still awol.',\n",
       " 'no new csi tonight. fml',\n",
       " 'i think my arms are sore from tennis',\n",
       " 'wonders why someone that u like so much can make you so unhappy in a split seccond . depressed .',\n",
       " 'sleep soon... i just hate saying bye and see you tomorrow for the night.',\n",
       " 'statravelau just got ur newsletter those fares really are unbelievable shame i already booked and paid for mine',\n",
       " 'missin the boo',\n",
       " 'markhardy me too itm',\n",
       " 'damn... i don t have any chalk! my chalkboard is useless',\n",
       " 'had a blast at the getty villa but hates that she s had a sore throat all day. it s just getting worse too',\n",
       " 'msdrama hey missed ya at the meeting sup mama',\n",
       " 'my tummy hurts. i wonder if the hypnosis has anything to do with it? if so it s working i get it stop smoking!!!',\n",
       " 'why is it always the fat ones?!',\n",
       " 'januarycrimson sorry babe!! my fam annoys me too. thankfully they re asleep right now. muahaha. evil laugh',\n",
       " 'hollywoodheat i should have paid more attention when we covered photoshop in my webpage design class in undergrad',\n",
       " 'wednesday my b day! don t know what do!!',\n",
       " 'poor cameron the hills',\n",
       " 'pray for me please the ex is threatening to start sh at my our babies st birthday party. what a jerk. and i still have a headache',\n",
       " 'makeherfamous hmm do u really enjoy being with him ? if the problems are too constants u should think things more find someone ulike',\n",
       " 'strider is a sick little puppy http apps.facebook.com dogbook profile view',\n",
       " 'so rylee grace...wana go steve s party or not?? sadly since its easter i wnt b able do much but ohh well.....',\n",
       " 'hey i actually won one of my bracket pools! too bad it wasn t the one for money',\n",
       " 'stark you don t follow me either and i work for you!',\n",
       " 'a bad nite for the favorite teams astros and spartans lose. the nite out with t.w. was good.',\n",
       " 'body of missing northern calif. girl found police have found the remains of a missing northern california girl .. http tr.im imji',\n",
       " 'mangaaa i hope they will increase the capacity fast yesterday was such a pain. got the fail whale times in hours....',\n",
       " 'behind on my classes for work',\n",
       " 'watching quot house quot',\n",
       " 'kpreyes remember my bum leg? strikes back this time its serious',\n",
       " 'paradisej cool i will. their are all kinds of complaints about this laptop online about overheating but no recalls',\n",
       " 'emily will be glad when mommy is done training at her new job. she misses her. http apps.facebook.com dogbook profile view',\n",
       " 'would rather the first party send bad messages than the rd party send mixed ones sophmore year all over again?',\n",
       " 'henkuyinepu it s overrated',\n",
       " 'marykatherine q i know! i heard it this afternoon and wondered the same thing. moscow is so behind the times',\n",
       " 'laying in bed with no voice..',\n",
       " 'i m sooo sad!!! they killed off kutner on house whyyyyyyyy',\n",
       " 'jacobsummers sorry tell them mea culpa from me and that i really am sorry.',\n",
       " 'alliana it didn t make any sense to me the suicide thing. i refuse to believe that that is actually what happened.',\n",
       " 'salancaster hope your ok.',\n",
       " 'mercedesashley damn! the grind is inspirational and saddening at the same time. don t want you to stop cuz i like what u do! much love',\n",
       " 'hibanick yeah aw but i know i wudnt stand a chance',\n",
       " 'ugh. cant sleep. its am.',\n",
       " 'hanging in crooners. wanna sing. can t. sucks.',\n",
       " 'erre sc aaw i miss ya all too.. im leaving to bh tomorrow quot morning quot i think.. aww i wanna go to the beach w u girls!!',\n",
       " 'is pissed off that there s no asba s for a radio station.',\n",
       " 'wednesday my b day n don t know what do!',\n",
       " 'i know my life has been flipped upside down when i just thought in my head that some ramen sounds good.',\n",
       " 'i am in pain. my back and sides hurt. not to mention crying is made of fail.',\n",
       " 'late night snack glass of oj b c i m quot down with the sickness quot then back to sleep...ugh i hate getting sick...',\n",
       " 'allyheman but.. but.. but.. i m not a big fan on camilla belle',\n",
       " 'grum wah i can t see clip must be el stupido work filters. can t wait till i get a puter. something else blame ex . he broke mine',\n",
       " 'this week just seems to get longer and longer in terms of how much i need to do.. and how much i m actually going to get done',\n",
       " 'i m so cold',\n",
       " 'thecoolestout ehhh don t. weather s gonna take a turn for the ugly tomorrow',\n",
       " 'chelserlynn haha its so cooooold in the d! and no but you should still go to the show. they do some incredible stuff',\n",
       " 'hoping the tummy rumbles go away soon',\n",
       " 'knights no no notice. they told me i d be working tomorrow and then i called the agency to follow up and they said it was over.',\n",
       " 'almost bedtime',\n",
       " 'i m missing you babe.. but as long as your alive i m happy.. yawwwnn.. i m tired my love imma try to sleep hopefully you had a headstart',\n",
       " 'agh...snow!!!',\n",
       " 'i miss kenny powers',\n",
       " 'bridgetsbeaches thank you for letting people know but now i m sad that the direct message i got wasn t actually from bridget',\n",
       " '...and india missed out its th test victory n th consecutive win without a loss.',\n",
       " 'jonathanrknight i guess that s a no then.',\n",
       " 'sadly is going to bed.',\n",
       " 'ozesteph shame to hear this stephan',\n",
       " 'mrsaintnick hey! i m leavin in the morning...',\n",
       " 'was intending to finish editing my page novel manuscript tonight but that will probably not happen. and only pages are left',\n",
       " 'laid around too much today... now my head hurts',\n",
       " 'twista i still haven t read the th amp th princess diaries saving francesca made me cry at the end. hmm those are easy books.',\n",
       " 'my nokia died..',\n",
       " 'my mom might have breast cancer won t find out anything for. like a week i m so worried!',\n",
       " 'going to sleep. hoping tomorrow is a better day.',\n",
       " 'rumblepurr lol.. wish they understood daylight savings has ended though and breakfast is an hour later they keep waking the kids up too',\n",
       " 'onemoreproject that is lame',\n",
       " 'i don t understand... i really don t',\n",
       " 'heroes just isn t doing it for me this season...',\n",
       " 'living not downtown sure isn t much fun.',\n",
       " 'jonathanchard not calorie wise i wish junk food was calorie free! i ate a thing of sour skittles and a big ass cherry coke!',\n",
       " 'man work is hard',\n",
       " 'getting sick time for some hot tea studying and then sleeeep',\n",
       " 'getting eyebrows waxed. more pain',\n",
       " 'no phantasy star yesterday going to work...',\n",
       " 'oh just got all my macheist . apps sweet. didn t get the espresso serial no though although they said they sent it oh well',\n",
       " 'picked mich st to win it all from the get go. was feeling pretty good about that pick all the way up until......tonight. a s lost too',\n",
       " 'is alone downstairs...working',\n",
       " 'i feel bad for doing it',\n",
       " 'ryanseacrest is it just me or she hates anoop. i mean seriously she s kinda mean to him.',\n",
       " 'pinkserendipity yes sprint has g only in baltimore and chicago so far',\n",
       " 'i m stuck awake in the middle of the night for the second day in a row. and i felt terrible yesterday.',\n",
       " 'thanks for bursting my bubble',\n",
       " 'going to school soon... can t find anything to wear!! gosh it s so hard',\n",
       " 'marieclr i was serious lol',\n",
       " 'naughtyhaughty i had on my page for sooooo long!!! until it got deleted sad day in history',\n",
       " 'crazy wind today no birding http ff.im xtti',\n",
       " 'currently at work..',\n",
       " 'grrr.. my ipods acting weird too! jai ho and thinking of you aren t playing the full songs.. ughh.',\n",
       " 'penndbad send me the dvd cos i have missed out on heaps not happy about that!',\n",
       " 'i don t see the big deal with this website',\n",
       " 'machineplay i m so sorry you re having to go through this. again. therapyfail',\n",
       " 'colindemar far too out of the way for rail. any other tips?',\n",
       " 'i m not still up i swear. why do i keep losing. gaining. losing. gaining. tweeps? so heart wrenching.',\n",
       " 'today i realized i am too good at hiding things even i can t find it',\n",
       " 'staying at a friends house...house sitting neighbors are so loud having a party',\n",
       " 'dannyvegasbaby danny im upset that i wasnt here to watch the live chat i was in a car. for hours on a trip im soooo upset!!',\n",
       " 'check out my mug http www.erika obscura.blogspot.com',\n",
       " 'borders closed at',\n",
       " 'downloading nin s new album quot the slip quot when the hell did this come out? i m so behind the times these days',\n",
       " 'just woke up an already have written some e mail... i ve to go early at university today as i have to teach at am!',\n",
       " 'is watching the hill . . .and its making me sad',\n",
       " 'so many channels.... yet so so boring... lazy day again may have to find a hobby',\n",
       " 'supersport i miss my buddy ill be in ny on the th',\n",
       " 'robluketic love the french. i tell people here in the south i m qtr. french and they snarl at me. french are beautiful people',\n",
       " 'opps.. as i said.. i still got one day remain and now problem come',\n",
       " 'i activated my selfcontrol block early meaning i can t check out the new qc. regularizing my internal clock is might be difficult. fb',\n",
       " 'hillydop oh no',\n",
       " 'spencer is not a good guy.',\n",
       " 'goodlaura what about reese dying on ttsc? and season finale next week. boring madame president is a crazy woman.',\n",
       " 'jonathanrknight i hate the limited letters too.hope you and the guys are fine?i pray for my dog she s not well',\n",
       " 'didn t get shit done today i m so screwed',\n",
       " 'wanttss to go out',\n",
       " 'is not going to sleep tonite.',\n",
       " 'too worried and tired to post tonight',\n",
       " 'couldn t get shit done today i m so screwed',\n",
       " 'job interview in cardiff today wish me luck! got about hours sleep',\n",
       " 'stustone your show is whack. way worse than whack it s wiggety whack.',\n",
       " 'djalizay i really don t think people choose to be that way. but i think he chose not to accept my family s help he might be dead by now',\n",
       " 'eloquentembrace you re going to kill me but i ve not seen ds . i ve been waiting till i can do it in one solid week sitting.',\n",
       " 'cheechbud i think ur right!! hahaha!! . hrs now!!',\n",
       " 'i hate to see the spartans so sad',\n",
       " 'my mind and body are severely protesting this quot getting up quot thing. had nightmares to boot',\n",
       " 'mysteezradio i m goin to follow u since u didn t lol go angels!',\n",
       " 'mandayyy',\n",
       " 'twista i think i want to read some books but the library doesn t have them',\n",
       " 'my nap was interrupted so many times today going out for japanese with the rents again...',\n",
       " 'kind of longs for the bus that shows up at the end of ghost world right now. ugh.',\n",
       " 'gurumn but this is canada canada is weird. we re supposed to get snow through wednesday. ugh.',\n",
       " 'awwh babs... you look so sad underneith that shop entrance of quot yesterday s musik quot o i like the look of the new transformer movie',\n",
       " 'sad that the feet of my macbook just fell off',\n",
       " 'i m gonna get up late tomorrow and it s am here. i gonna get tipsy by my lonesome. that s...that s just sad',\n",
       " 'i m sweating my forthcoming trip to e . if i can t find someone to crash with while i m out there i may be screwed.',\n",
       " 'has now gotten somebody to read his tweets but cant get them to make an account.',\n",
       " 'infinitydefines omgawd i couldnt handle my cat being in heat all the time d d',\n",
       " 'donniewahlberg i hope i can make it to the auburn show. but its not looking good for me',\n",
       " 'david henrie thats people mag haha i couldnt fit it all in.. i dont think those pictures ever made it in the magazine tho! haha',\n",
       " 'breadandbadger congrats!! i totally forgot to submit photos',\n",
       " 'paulaabdul awww good luck paula!! please don t work too hard but i hope you have fun your new album is gonna be amazing! xxx',\n",
       " 'imaginarypeach now your leaving me .... gets sad',\n",
       " 'i miss you twitter. my phone broke now i m using a stupid nokia phone. ughhh i miss my advance phone.',\n",
       " 'shooting outside my house o not kidding! so scared',\n",
       " 'tuesday ll start with reflection n then a lecture in stress reducing techniques. that sure might become very useful for us accompaniers',\n",
       " 'what tragedy and disaster in the news this week',\n",
       " 'yes yes still trying to find a picture that will upload correclty..',\n",
       " 'why oh why was the red sox game rained out? i was so looking forward to opening day',\n",
       " 'i still can t find my keys.',\n",
       " 'charlietm i know right. i dunno what is going on with twitter.',\n",
       " 'might be getting a sore throat again',\n",
       " 'labelsnotlove my home town. my mammy called all depressd. pls explain y a parent let their yr old child walk alone? hello? its !',\n",
       " 'ircmaxell i think i need to find better anti depressants. i think this paxil wellbutrin combo is losing its efficacy.',\n",
       " 'myconnecticut restaurant called woodntap has competitive eating tourney round tourney time. we place nd',\n",
       " 'is in the bathroom... wake up lakin.',\n",
       " 'caitlinoconnor i want tacos and margarhitas telll gay i say hello lt',\n",
       " 'im lonely keep me company! female california',\n",
       " 'bad day at the betfair office',\n",
       " 'i miss him. can t wait to celebrate the tar heel win this weekend though!!',\n",
       " 'i m really cold. i don t want to go to sleep yet but there s nothing to do',\n",
       " 'kristencampisi is this it u? its officially over me this go round!',\n",
       " 'monkeys??? i just found out you my twin and you wont even write back. i m heartbroken',\n",
       " 'miss om aww i know i felt like that yesterday at work',\n",
       " 'sarahreedsc treaty isn t defined',\n",
       " 'missed brent at praise band. no fun to not have the your lead guitarist. lt pout gt',\n",
       " 'jpfurry poor john this is what happens when you play with fruit and a microwave! seriously though have you seen a doctor?? xxx',\n",
       " 'missing my bff watching home and away it reminds me of her and me we lt it. shout out to u courts',\n",
       " 'mandayyy',\n",
       " 'new video card is doa.',\n",
       " 'feeling lost naked and confused jk sort of .....no iphone for me.',\n",
       " 'damn i am so late at filling this appraisal form people have almost sent it .. i was so occupied in work',\n",
       " 'missed brent at praise band. no fun to not have your lead guitarist. lt pout gt',\n",
       " 'i think to much on the past. i cant change it. i deserved so much more then wat i got. ..but why am i still thinking about him gah',\n",
       " 'has lost his ring. it s no where to be seen',\n",
       " 'burgaw ooooooh! sealclap see i download shitloads of zip folders off chan. i have no internet moneys. fuck yeah alicia amp mikey.',\n",
       " 'is still nursing my nile but glad he is feeling better. i hate when my baby is sick',\n",
       " 'is fucked to go back to ic',\n",
       " 'brandizzzle yoyoyo. my internet has been rude tonight. it just reconnected and i m about to go to bed.',\n",
       " 'jemcam well i have uni stuff and netball but after netbal if i ve done uni stuff we can',\n",
       " 'kissability me too i is poor',\n",
       " 'help me forget th april amp th july!',\n",
       " 'dierks bentley is comin to columbus oh!! i wanna go so bad',\n",
       " 'i have to take my sidekick back.',\n",
       " 'chriscantore congrats! i m totally jealous! only wish my xm was working',\n",
       " 'gr t my face is very itchy',\n",
       " 'poor socks luvvvvv the golden retriever!! i want one sighhhh',\n",
       " 'i just saw that they found that tracy girl in a piece of luggage... how fucking terrible',\n",
       " 'aaaaand the nausea is back.',\n",
       " 'donniewahlberg ooh i m excited and not even going be there long love youtube!',\n",
       " 'spent hour to reach to axis bank only to find out today is holiday for mahavir jayanti contd..',\n",
       " 'mathewsmichael i agree... the jobros dont update theres very often',\n",
       " 'fishmouse it is hilarious and i linked the clip from lj some time ago but when i went back just now it was a dead link',\n",
       " 'diannepulham oooooooo who with? im not neither but thats because i need to study',\n",
       " 'haven t tweeted nearly all day posted my website tonight hopefully that goes well night time!',\n",
       " 'bostongarden i miss bentley',\n",
       " 'seriously needs to finish these job applications',\n",
       " 'my son vincas is sick so i stay at home just three tense days at work and i am back on holiday with kids',\n",
       " 'whinging. my client amp boss don t understand english well. rewrote some text unreadable. it s written by v. good writer amp reviewed correctly.',\n",
       " 'huntermoore i don t want him to ever punch me.',\n",
       " 'sooo sick of the snow ughh',\n",
       " 'its nemesis',\n",
       " 'lovemeagan it doesn t work your fan is upset',\n",
       " 'i would like to apologize for the repeated video games live related tweets. i am going to have a stern discussion with koodo soon. stern.',\n",
       " 'zaydia but i cant figure out how to get there back pay for a hotel etc',\n",
       " 'fml so much for seniority bc of technological ineptness i now have to quot register quot for classes again',\n",
       " 'feels like she slept the day away. not looking forward to any more bouts with my gallbladder. at least i have pills now for the pain.',\n",
       " 'thastevieg but what i really want is my old bass back',\n",
       " 'mad tired today... callin it in early tonight nighty night twittas',\n",
       " 'levenrambin take it easy and be good to you.',\n",
       " 'i m afraid i had bad code.',\n",
       " 'think i m going to bed. goodniight. i hate this',\n",
       " 'riancurtis i m here friend and i love you.',\n",
       " 'kariajay all this time you didn t notice i was gone...just needed db is it??',\n",
       " 'aaronrva is in the bathroom and i have to pee!',\n",
       " 'ashleyskyy but i wanted a margarita too!',\n",
       " 'kourtneykardash yup night workouts r the worst but unfortunetly my work schedule only allows me to go at night its tough!',\n",
       " 'just called hillsong again they said they couldn t tell me where i was on the waiting list i don t know if it s looking so good',\n",
       " 'has g of milky bar left and around ml of coke',\n",
       " 'jokerrrr it stillllll hasn t arrived',\n",
       " 'mraow i feel like dancing but first art school wants to rape me some more.',\n",
       " 'karenucol ah! i bet it does i ve been like craving to play softball or basketball !!! but i have noo time',\n",
       " 'is terrified she accidentally deleted a reference in her management assignment and hopes she doesnt get in trouble when she gets back',\n",
       " 'amazon s plugin not worked in my website . it need php . but my hosting provider has only php . . very sad.',\n",
       " 'argh! i was suuuper sleepy an hour ago now i m wide awake. hope i don t stay up all night.',\n",
       " 'austinhill i wish i was! sold out if you have some time let me know i would love to hear more about what you are up to!',\n",
       " 'just watched tropic thunder. dreading tomorrow',\n",
       " 'qweendassah no...he s still miss n...',\n",
       " 'chiefdelphi is down',\n",
       " 'http twitpic.com y wr according to my bro our new puppy had a poo fight and was covered in poop picture stolen from him',\n",
       " 'playing game at home! my new boss didn t call me yet...',\n",
       " 'su yin huen tweeted i feel unbearable guilt. i made my staff cry http tinyurl.com cw l t',\n",
       " 'poor joshy is sick??? those damn tejanos!',\n",
       " 'my thoughts are with sandra cantu s family at this difficult and sad time',\n",
       " 'franzglaus i know just wanted to let everybody know what was happening',\n",
       " 'michigan who? i don t know them. sigh shameful!',\n",
       " 'i have to fill two hours',\n",
       " 'alicayaba so cuuute! hey i miss you na! its not the same not seeing you girls everyday',\n",
       " 'jonathanrknight oh! did i mention it? quot gooooood moooorniiiiiiing quot from germany! im back in my cage....or better...my office',\n",
       " 'throat is closing up and i had some string cheese. not a good idea',\n",
       " 'aww sandra cantu is found dead in a suitcase missing children stories never seem to go good. poor family.',\n",
       " 'wishing i was home underneath my covers',\n",
       " 'walking home from school drains all my energy',\n",
       " 'ridley i agree. the shapeshifting is a copout. i was so excited for angela s ep i thought it was this week. noah was awesome tho!',\n",
       " 'savethestrib dang! i would have done this if i knew it was there earlier. any other outings planned?',\n",
       " 'i wish i was better at writing. it s taking me so long to write this paper.',\n",
       " '..and of course... i have access to my halo mythic map pack re download.. but bad news.. not the legendary map pack... ugh.. ms...',\n",
       " 'vene ia ...not yet unfortunately another few weeks i ve been told how are you? i ve been a little bit busy with my latest project.',\n",
       " 'thecoolestout ha the sun s already gone',\n",
       " 'day . a lot harder than day . let s see how day goes tomorrow.',\n",
       " 'my man crush jake peavy let me down gayforpeavy',\n",
       " 'trishzw megafast trip you have time during day tom weds? or you going out tonight? want to see you bad. tried to warn you tech fail',\n",
       " 'michigan state you make me sad',\n",
       " 'omg. my mouth is in so much pain i just wanna sleep untill its time to take my braces off.',\n",
       " 'getting annoyed easily today gt gt gt biofuel proposal getting annoyed easily today gt gt gt biof.. http tinyurl.com ceprvs',\n",
       " 'mizzchievouz hey girl. the site is back. girlyvue is back and they have even more videos.',\n",
       " 'a hleyf i m spending time with my grandma early tomorrow and i can t leave skittles by herself.',\n",
       " 'just got home from watching michigan state get tromped!',\n",
       " 'oh jew bus! two years worth of classes work is alot to organize gt lt i m not finishing tonight it s not possible...my bones ache',\n",
       " 'griffmiester no exchanging for me my laptop hasn t arrived',\n",
       " 'hyperbets i hope this doesn t last too long. i feel miserable!',\n",
       " 'rcompo rachel! hang outage is neccessary i was gonna be home this wekend but dumb folk make me work so im free f and sat until ...',\n",
       " 'theleaguesf not fun amp furious? the new mantra for the bay breakers? it was getting rambunctious the city overreacted amp clamped down',\n",
       " 'amber benson my hubby for some reason thinks it s more important he has a good spot for red carpet for the trek movie premiere. sod!',\n",
       " 'i swear no matter how long i ve been getting up at am it never gets any easier. man my eyes hurts wah',\n",
       " 'jeffree star jeffree! how do you keep your hair one color? my permanent dye fades within the week',\n",
       " 'otakusecret my reaction too whoa didn t see that coming',\n",
       " 'still sick. feeling a bit better got some new medicine.... hope i feel good after a night of sleep. ohh and it s suppose to snow! wtf!',\n",
       " 'dangerm use i think maybe you should get a couple more hours of sleep hon. how productive can you be right now if ur dog tired? i worry',\n",
       " 'maddyva thanks a lot. learned a lot of new words but didn t find what i was looking for.',\n",
       " 'wish i had all the xblm downloads all on the gamertag hitokyri . this gamertag thing is nonsense... and i m tired of it',\n",
       " 'new testament test at am',\n",
       " 'scoutbuck tons no hay troll? ahhhh',\n",
       " 'stupid movies we watched... mirrors ugggggh... stooopeeed!!! rip off!',\n",
       " 'http twitpic.com y yi i love you buck.',\n",
       " 'last one!!! but still not done!!!',\n",
       " 'homework....',\n",
       " 'i don t understand why things get taken away. i didn t have enough time with him its unfair. i want him back!! he was like my baby',\n",
       " 'scratch that du in heif two in a half cookies. my tum just can t take anymore shoog. poots',\n",
       " 'cococourtney i was just listening to the sweets for the first time in forever! i miss them so much can we go to chi town for visits plz?',\n",
       " 'geez what a busy afternoon. meetings emails meetings and email and more meetings. pm and the day is still going! ah its dark and',\n",
       " 'dang!!! another spring break!!! how cool is that??? too bad i have to work all week oh well more money for a phone. ttyl everbody!!!',\n",
       " 'sara kate im afraid too ur reply about uni from ages ago',\n",
       " 'feeling down',\n",
       " 'carvin lol they are some emotional ass men!! omg all this late night eating.. both of us are broke',\n",
       " 'nick carter aww nick!! i like your hair longer why did you cut it off? break. my. heart.',\n",
       " 'wonder if jon lost the net',\n",
       " 'wow. the most depressing thing in the world is losing a video that you ve created in a matter of seconds. fml',\n",
       " 'nchokkan https www.mycomicshop.com search?tid but all says not in stock',\n",
       " 'poohpot lmao im sorry poohpot i ate it all!',\n",
       " 'any chance softbelly for mtub isn t loud?',\n",
       " 'time to move my posterior and lose some fat. my articulation are creaking so no more running but i m drool for some swimming',\n",
       " 'listening to nathan cry....',\n",
       " 'today sucked. i m gonna die without chris and callum! wahhh!',\n",
       " 'stou site not update no info about exam and open course i must wait for mail notices and doc. um...',\n",
       " 'ohsbrat ...i m sorry. i m feeling kinda yucky myself. am is going to come too quick',\n",
       " 'is in love with scrappy and is missin him already',\n",
       " 'wants to hear seblefebvre s song but myspace is messing with me',\n",
       " 'bad news was dad has cancer and is dying good news new business started and i am now a life coach practising holistic weight management',\n",
       " 'duchess rebecca man... intervention is soo sad',\n",
       " 'help! i need a new boyfriend... i m stuck in a rut',\n",
       " 'i feel like a complete idiot. i m the only one who doesn t get how this shit works help me',\n",
       " 'saw an ad on craigslist for a casting call for a female host on g . i was totally psyched! but realized it was a hoax',\n",
       " 'pepperoni rolls in l.a.? i called valentino s they said that they had sausage rolls but no pepperoni rolls http tinyurl.com cec ka',\n",
       " 'soillodge yes it will be. it s only monday',\n",
       " 'i want the new gg episode already',\n",
       " 'i miss watching rocko s modern life.',\n",
       " 'rip sandra....its so sad how can someone do something like that??',\n",
       " 'keeping my fingers crossed for my buddy he is not feeling well.',\n",
       " 'wait should i eat?? or be skinny for vegas!! i m hungry!',\n",
       " 'marge inovera i tried tweetdeck once and i hated it with a passion. or it hated me i m not sure...',\n",
       " 'benackerman btw my iphone is acting funny dying quickly and freezing and bs. i m not admitting anything just sayin',\n",
       " 'sitting here wondering why quot ed quot still has such a strong hold on me',\n",
       " 'bananaface im sorry i got you sick. lol. going to bed too. night!',\n",
       " 'carolrainbow no internet at home have to drive into ox to use internet because of builders!',\n",
       " 'steve buscemi the weather in canada is freezing',\n",
       " 'twiggassssssss i been out of range all day i m back now and hopefully for good.',\n",
       " 'danadearmond',\n",
       " 'anyone who reads this pray for my grandma. she s in pain',\n",
       " 'woke up and was having an accident quot it s pushing it s pushing! quot he was crying because he couldn t stop from wetting his pants.',\n",
       " 'home from franklin street i almost jumped over a fire. someone kicked it before i could. jenny lost her shoe.',\n",
       " 'johnnybeane hey! you just changed your default.',\n",
       " 'finally gave in and was bored enough to start this thing. i think the is going to be a problem for me tho. its like a myspace status.',\n",
       " 'ellievolia if oooonly we were really so lucky eh? and awh definitely too early for work.',\n",
       " 'buttload of homework!',\n",
       " 'needs another copy of visual studio',\n",
       " 'why to we the only school in the world be in this week.my school is silly anyway... look on the bright side. when i m off u will be in',\n",
       " 'omg i ve an economics test. and i dont know all the things i have to know and omg im gonna fail',\n",
       " 'robcthegeek once upon a time hundred islands was the pride of philippine tourism but coral clam rare fish poaching did it in. kinda sad',\n",
       " 'henkuyinepu yeah apparently i have really bad taste',\n",
       " 'hummiemd i know! i was really surprised since everyone recommends them on youtube. i have to call them tomorrow and figure it all out.',\n",
       " 'waiting at the airport for my ride while i get harassed by men trying to sell me ugly hats.. why me?! i just want to sleep..',\n",
       " 'i left my ids at the location and now i can not go out to bars fuckkkkkkkkkkkkk',\n",
       " 'celycarmo i m sorry i don t understand your last comment',\n",
       " 'officialrandl when is the announcement? i stayed up late last night',\n",
       " 'kishorek this is strange illegal torrents avlbl everywhere legal dvd not in stock what do i do now???',\n",
       " 'its not enough to say that imiss u',\n",
       " 'this trolley has up packed in like sardines! padre game and they remove a car?! good call mts',\n",
       " 'randomlynat jeez i was just trying to help haha.',\n",
       " 'supamagg that happened to me saturday night. along with my glittery green lighter!',\n",
       " 'trying to reduce the number of cigarettes in each day!',\n",
       " 'yea it is so quiet around here cuz everyone has to work im bored to death with nobody to talk to',\n",
       " 'gotta do my cooking assignment its too hard',\n",
       " 'treesahquiche okay about the applepears i ve talked to a few people and they ve all had them before. no one ever told me never',\n",
       " 'jennifermf i know! i m a night owl by nature hahaha am i a time zone behind you? it s almost here',\n",
       " 'mamasvan lol nope! but i did have complete camerafail',\n",
       " 'maxime megelder but! i m useless if i don t sleep it s not fair! i want all the fun as well!!!',\n",
       " 'my pookie has a uti. i have to be nurse gabbie and get him back to !!! no more sodas!!!!!!!!!!!!!!',\n",
       " 'jillianfish tweet something damn it! and hang out with me please?',\n",
       " 'anistorm',\n",
       " 'i m so behind in video games and everything for that matter. i m yesterday s news',\n",
       " 'sleep til noon i did it was the only one left but i got tempted and ate it soon as i got home i had a chocolate velvet amp ate d mocha',\n",
       " 'is stressing out because my blackberry keeps flashing a red alert status for no reason!! its faking me out and i hate it!!!',\n",
       " 'http twitpic.com y e i wanna wear my doc martens out! haven t worn them since december.',\n",
       " 'when to the shoe repair shop and the guy could not find my shoes! so i have to go back and see if he can find them in a couple days.',\n",
       " 'b barnett i did not really see that coming',\n",
       " 'just woke up from the most vivid sketchy not cool dreams of my life. time to stare at the wall with the lights on.',\n",
       " 'it ll take days for my sister to get her passport',\n",
       " 'nicolerichie oh my yes!! i miss',\n",
       " 'uh oh... i think i am getting sick',\n",
       " 'good god they ruined my belly button!!!',\n",
       " 'watching who framed roger rabbit. makes me miss toon town.',\n",
       " 'akianz renting.. but very cheap renting and awesome house. we had buying attempts fall through',\n",
       " 'running nose spinning head not a good combination for a meeting!',\n",
       " 'eazydoesit negative.. you lost my vote of confidence',\n",
       " 'nasty budget due and my iphone is being sent to apple today.',\n",
       " 'sofii noel that s bad',\n",
       " 'dammit episode of kings won t play for some reason stopped in the middle now won t do anything',\n",
       " 'i m so upset that i missed my chat and quiz online because my free internet has ceased',\n",
       " 'can t believe it! i m in disbelief of it all in a way really. how much can i take from people and always get hurt by others!!',\n",
       " 'car show season has started without me',\n",
       " 'my throat is raw.',\n",
       " 'kevchoice i just don t get it. what in a persons mind could even have them on some ish like this??? my prayers are with her fam for real',\n",
       " 'frago i hate you. i didn t need to see that. i need to call my therapist now.',\n",
       " 'twilight didn t come yesterday fingers crossed for today',\n",
       " 'nilelegania glad i was able help you feel better. i hate to see you sick love you!',\n",
       " 'is tireddddddd. want to sleep but i have an assignment to finish and an exam tomorrow to study for',\n",
       " 'you know i was thinking... i need money',\n",
       " 'omg..its jst teusday',\n",
       " 'ddlovato david henrie ummmmm i cant find it.',\n",
       " 'just heard that they found sandra cantu... she was only yrs old',\n",
       " 'corrosivecandy ive forgotten how to snoo snoo i wonder if snoo snoo and i will ever meet again...',\n",
       " 'amanorris wow that last tweet made me seem like a giant sexist...sorry about that',\n",
       " 'my bathtub drain is fired it haz job do amp it iz fail. i got all drano on its ass amp iz still not draining. i wanna shower dangit!!',\n",
       " 'stuck at home',\n",
       " 'nomadicmatt mine is how do you get it up?',\n",
       " 'duckling in famous children s book stolen from boston s public garden the boston globe http tinyurl.com dc htx via sharethis oh no!!',\n",
       " 'appomattox news thank you! however i hate to be on the same list that includes convicts.',\n",
       " 'heading to altrincham again! out of hours install',\n",
       " 'morning!!! good im bloody knackered!!! work is not for me today helppp!!!! xxx',\n",
       " 'jeffreecuntstar i don t have a garage. but you can park in my driveway!',\n",
       " 'lauredhel what happened?',\n",
       " 'quot on popular music quot by t.w.adorno is probably the most difficult reading ever prescribed i m actually struggling to continue',\n",
       " 'http twitpic.com y e cant see the flowers falling i dont have a camera just my cellphone',\n",
       " 'we ve been good. i m not liking the snow right now was getting used to the nice spring like weather. how about you?',\n",
       " 'brian armstrong what a pity youtube is currently blocked in china. i can t see the vids.',\n",
       " 'margaretcho what happened to your show it was the hightlight of my life',\n",
       " 'this is the best leather sofa in the world! it s in the office though which means i m still here working',\n",
       " 'still more days until my internet gets uncapped',\n",
       " 'if he doesn t get better in a few days he could have something lodged in his belly',\n",
       " 'i love my atekinzz so much. amp amp i soo miss her..',\n",
       " 'i wanna sneak into the zoo and play with the kitties',\n",
       " 'lolitariot oh no hope you re not getting sick too!',\n",
       " 'alejandralei i dont think i can cause its my cousins birthday party',\n",
       " 'our sweet little man just fell asleep while waiting up for daddy and big brother to get home! poor baby he missed them so much today!',\n",
       " 'the angel is going to miss the athlete this weekend',\n",
       " 'trust is hard',\n",
       " 'have watched that considering today. yaknow. shawnna tomomorrow i need my bestfriend',\n",
       " 'grr i want to keep reading but if i do i wont have anything left to read',\n",
       " 'atekinzz where in the world are you??',\n",
       " 'rumlover no! u supposed to be my date',\n",
       " 'pears amp brie bottle of cabernet and quot win a date with tad hamilton quot ... oh gawwd my life flashed forward to when i m with my cats',\n",
       " 'crap. i need more dresses too.',\n",
       " 'kaeeeep yeah! i know! it was horrible!!!! ugh. saddening.',\n",
       " 'brodhe geez ur no fun are you',\n",
       " 'i wanna be in a punk rock band again',\n",
       " 'jyesmith that s a lot of angst for a tuesday afternoon',\n",
       " 'i m very glad britney isn t crazy anymore! that was one hell of a show! now i m sad that it s over. next up...ap at cook county!',\n",
       " 'has a huuuge headache! omg i feel like crap!',\n",
       " 'anistorm sorry',\n",
       " 'cleders sorry...i was rooting for them too...',\n",
       " 'man that took forever.',\n",
       " 'shandasaurus i see.',\n",
       " 'i am listing more items on ebay to sell! takes forever..meanwhile coleman is watching the hills season premier without me..',\n",
       " 'just got my presentation done slides done... i m crying for this week will be the hardest of all weeks.',\n",
       " 'just lost',\n",
       " 'i don t like the previously on skins thing that starts at season two. i like it when it went straight into the intro like before',\n",
       " 'houndour ...i wish i was there...i m pretty good at scaring the shit out of people',\n",
       " 'going to sound vain... but running out of my fav lip gloss',\n",
       " 'stuiy never again will i click on a link that screams quot i m a spider i m a spider quot . i should have known better. yucky',\n",
       " 'why is that when you have time off from work you get sick?',\n",
       " 'pratama same imac came out more in indonesia than the states.',\n",
       " 'dammit... i need to stop buying furniture',\n",
       " 'miss sil no i was half asleep and turned off the laptop after that',\n",
       " 'death is peaceful life however bites',\n",
       " 'i think jonathanrknight lost the net ? sure hope not',\n",
       " 'http is.gd r zf http is.gd r zy and http is.gd r zg test footage with my girlfriend in hd the dark one is underxposed',\n",
       " 'such a tough game to watch tonight for state finally going to bed after also staying up to watch the season premiere of the hills!',\n",
       " 'seems jruby support for hpricot is now two versions behind',\n",
       " 'jinxcat unlike my sister...i still don t have one',\n",
       " 'fraking app store is pissing me off http tinyurl.com c ooho',\n",
       " 'logging out. i need to study....',\n",
       " 'anyone else having problems accessing ttb??? i cant get on!!!',\n",
       " 'i strongly dislike people who make stupid comments and dont know the whole story',\n",
       " 'emmaketurah i m sorry emma is swarley a goldfish? i m sad for u.',\n",
       " 'all my tweets are already gone aren t they missed you guys tonight.',\n",
       " 'can t sleep again. face is kinda swollen. don t let me be allergic to the thing that ll get me to thursday. school tomorrow? doubtful.',\n",
       " 'snick the dog if izzy s on the cat tree she ll stare him down but if she s on the floor he chases and she runs.',\n",
       " 'i am officially banning godaddy.com from my comp. my head hurts from the small print and i wasted that could ve happily gone to boba',\n",
       " 'humanopium pretty much just scary for me',\n",
       " 'ilovepie mines too... i m finding it well hard to get fit...',\n",
       " 'good morning! ready go but i want go back bed',\n",
       " 'hates waiting for mails',\n",
       " 'wheat bread from the dollar store just doesn t toast nicely going over my taxes and calling it an early night',\n",
       " 'why kutner? i mean i knew something was going to happen to someone but it was so sad. i lt house and it was well done but i m still sad',\n",
       " 'jonathanrknight aw ok goonite....',\n",
       " 'ill so i cant go to the cinema!!',\n",
       " 'fell asleep . . . really didn t mean too christina',\n",
       " 'kelleyrowe hey you remember that time we used to be friends?? ugh. vomit. sick. i need sleep',\n",
       " 'my lymph nodes are as massive as rahm emanuel s balls right now',\n",
       " 'oh no my computer sucks. i don t think i ll be able to listen to the xbox fancast tonite',\n",
       " 'is missing playing my trumpet',\n",
       " 'my throat is still really sore. i was meant to be going on a day camp from friday but not so sure now',\n",
       " 'sasii i know exactly how you feel!',\n",
       " 'at work',\n",
       " 'well bed time now. am. sighs back to am mornings for a week on wednesday.',\n",
       " 'hert jesus camp? yeah...',\n",
       " 'marybethune oh no! with everything that happened today i forgot we were going dress shopping for the opera tomorrow.',\n",
       " 'turtles are better than my mac lasts longer and moves faster',\n",
       " 'i am soaked. this is not pleasant',\n",
       " 'ginayates sorry to hear about maggie. thoughts to your mum.',\n",
       " 'ewarden you may have to email this one to me i hope you feel better.',\n",
       " 'miamiiboii dead yu gettin on wen im leavin',\n",
       " 'arlenecd please tell me that s somewhere close to california!!! lol!',\n",
       " 'phlaimeaux where are you?',\n",
       " 'stupid arranged marriages... i ll convert so you can marry me...love you!',\n",
       " 'emilyruppe well he said that he is a looser and that is what the show implies',\n",
       " 'poor sandra cantu amp the cantu family! my prayers go out to them! what a sick world we live in. she was only',\n",
       " 'fuck omg austins always there though man lt love you',\n",
       " 'nicolerichie i cried so hard when matthew died',\n",
       " 'sad that the feet of my macbook just fell off sad that the feet of my macbook just fell off',\n",
       " 'chordsy why am i the last to find out about these things? like that you re on the twitter too.',\n",
       " 'lovebscott absolutely not!!',\n",
       " 'http twitpic.com y cf filled with curry the true indian in me is coming out',\n",
       " 'im soooo cold right now',\n",
       " 'heidimontag lol i kant believe cam got beat upp sooo embarasssiiiin',\n",
       " 'jonathanrknight good knight hun! looking forward to ur tweets again! hate that i keep missing out on the fun cuz of the time difference',\n",
       " 'tumblr this is exactly how it feels wearing a tie http tinyurl.com c bvqh',\n",
       " 'daniela hahaa!! i just realized quot impune quot definitely isnt the word i wanted... dang. i m so unclever.',\n",
       " 'watching old videos of dance team and such... makes me miss it',\n",
       " 'wahh no csi anywhere! dvr ed i love money though gonna watch it then sleep goodnight tweeters lt',\n",
       " 'struggling hard with inventory',\n",
       " 'ddlovato do you hate us?? please don t',\n",
       " 'ballinbitch haha im not that ballin. i still got bills to paaaaay',\n",
       " 'i m in one of those days when i really just want to work from home. crap.',\n",
       " 'paul e wog wait...is it a game or just episodes? i m so confused.',\n",
       " 'carlyw haha. i cried... i guess he did....',\n",
       " 'i don t get statistics! its all a bunch of mumbo jumbo for me.',\n",
       " 'sloanb got it sadly only works for uk amp us at the moment',\n",
       " 'evicted',\n",
       " 'doesn t enjoy learning css.',\n",
       " 'nachojohnny brian don t make me fuck u up lol i replied ur message...did u get my ? i miss u',\n",
       " 'heidimontag i dvr d it and went to watch it apparently the dish network went down so i missed it i will have to catch a rerun!',\n",
       " 'jessdubb lmao. u may have to wait for another season to come thru. its summe boo. hot nd dry ass weather',\n",
       " 'lizchavez i can t set my feet on the ground. the missing eyelid people might get me!',\n",
       " 'daniela my english professor would be ashamed.',\n",
       " 'o i wish the frogs weren t becoming extinct http tinyurl.com cxe w',\n",
       " 'came home from cross county tired as',\n",
       " 'i don t want to walk home in this snow. who wants to pick me up?',\n",
       " 'heidimontag lauren is being stubborn. she loves you you love her. i feel so bad for you though. it made me cry lol!',\n",
       " 'is grouchy. and wants bmar',\n",
       " 'my heart is broken every morning dropping foo at pre school now i understand when moms say quot he has my heart broken quot .',\n",
       " 'not feeling well and back hurts',\n",
       " 'im in the mood for some chocolate. i want..... miniature reeses cups. now',\n",
       " 'i can t take this heat! it s like an oven in here. i feel sick nwo',\n",
       " 'nick carter come to the chat just minutes please? http fanclub.backstreetboys.com chat.php',\n",
       " 'boredd. colddd internet keeps stuffing up',\n",
       " 'i had a horrible nightmare last night which affected my sleep now i m really tired',\n",
       " 'im lonely keep me company! female new york',\n",
       " 'born broadway lost and it was st. ignacius prepatory school. haha.',\n",
       " 'birutagme yeah it was really depressing... stuff like that gets to me',\n",
       " 'whoisariston no problem tongue in cheek remark. lots of acronyms but no nz',\n",
       " 'greggrunberg hey you said matt was gonna go all ballistic... i was disappointed good ep tho mostly',\n",
       " 'ugh horrible ending to the sandra kantu story prayers go out.',\n",
       " 'danielledeleasa http twitpic.com y pe i hate b allergic i want a puppy soo bad that i ve already thought some cool names',\n",
       " 'morning folks . am ..yawn! up amp away to see to horses hope twitter is better behaved today! last night was a travesty',\n",
       " 'quandotcom i miss mine too!',\n",
       " 'amandaenglund sorry to hear about your loss. there have been many this year so far.',\n",
       " 'nicolerichie gossip girl was a repeat',\n",
       " 'inyoureyes i reckon',\n",
       " 'finding it really hard to use twitter',\n",
       " 'i ve been stuck in this house for two days',\n",
       " 'is really sad and doesn t really know y!!??!!!',\n",
       " 'thousand miles no',\n",
       " 'maybe one of these years i ll get a tax return. a girl can dream right?',\n",
       " 'back at work tired as hell and i feel a cold coming',\n",
       " 'clarianne knot serious april th isn t coming soon enough',\n",
       " 'hannahsix cream for his eye and he may have herpes not ocular herpes but a different strain. he s doing okay though.',\n",
       " 'gotta repeat whole art folio cuz old one with a whole terms work got wet',\n",
       " 'i m ready for the weekend already. it s only monday.',\n",
       " 'lovebscott umm nope..think im an insomniac ..plus i got the flu...i lll be sleepin like a phuckin fish outta water any minute now!',\n",
       " 'has finland sleeping for the night not really enough time',\n",
       " 'lunafiko can t wait to try em but prolly have to wait until next weekend at the earliest',\n",
       " 'shiner is taking up all my bed and blankets!',\n",
       " 'clarianne april th isn t coming soon enough',\n",
       " 'wants to cry',\n",
       " 'i need to go to the bank tomorrow before i go broke...',\n",
       " 'this earthquake in italy has me sadden. it s only three hours away from naples where my family is',\n",
       " 'i should be sleeping i have a stressed out week coming to me.',\n",
       " 'dragoneer yea i am working tp hack my server to do the player thing for folks',\n",
       " 'has hurt her ankle!! and is going to the dr',\n",
       " 'raymondroman oh noes. how did you manage to send something to the trash can and empty it without noticing! i feel for ya',\n",
       " 'lost my free copy of radioactive so can t put it on my ipod grr!and i can t go out buy nother coz it came with that paper',\n",
       " 'doing make up shit',\n",
       " 'photoshop i hate it when you crash',\n",
       " 'vacations makes me feel sick!',\n",
       " 'you shouldn t have gone',\n",
       " 'listening to murd and th wonder just chillen out missing my crazy sex life',\n",
       " 'louie shooting!?!! be careful luisa',\n",
       " 'hillary i m sure everyone has ruined my gift to you whitney has my serious cell ...we doing easter as well?',\n",
       " 'is at beso in hollywood... so tired',\n",
       " 'i don t want to wake up early tomorrow. damn you work!',\n",
       " 'just finished watching the movie prayers for bobby. broke my heart',\n",
       " 'syekr is myki really horrible?',\n",
       " 'stephenkruiser i had put my dog down today too someone ran her over',\n",
       " 'nevadawolf sorry to hear about your dnf run tonight. always a risk to get bad coords on an ftf!!',\n",
       " 'honey i did get some disgruntled people when i wrote my esn but the hits in one day made up for it. bill pulls in tops',\n",
       " 'moony ohh! omg. lmao. i m crying right now lol! kutnerrrr was the best!',\n",
       " 'came back from running and took a shower...why does my lower stomach still hurt after exercising?',\n",
       " 'watching fallon with mom and working on a project...school is hard',\n",
       " 'min till home time and counting! i have a craving to visit the mac store but they will have closed by the time i get there',\n",
       " 'stephenkruiser i am so sorry to hear that! take care!',\n",
       " 'paulcoles hmmm...greed is good when it motivates the individual to do better not so much when it takes away from others',\n",
       " 'gabbyisactive brat! you have to rub it in don t you.... i want a mocha',\n",
       " 'kutnerrrr! why??? why?????? and to think that is still on the show?? ugh. kutner kal penn you ve been the bright star in ho ...',\n",
       " 'redvinylgirl my mom has it. i wish you the best of luck',\n",
       " 'i so hate homeworks . my head hurts so bad',\n",
       " 'got the ebay blues! item i want jumped from no bidders to over in an hour.. still has hours to go. i d better not get my hopes up',\n",
       " 'gigdiary i know was a little depressed that we ate so much last night there were no leftovers today',\n",
       " 'well the pc in my living room suffered a fatal partion lost all my itunes library is gone.. and some docs with pics....',\n",
       " 'sad day manu out for the season',\n",
       " 'stephenkruiser you poor spunky...its so sad...my rotti made it to and i had to go down the same path....i know how you feel',\n",
       " 'im sooo sad right now i need a hug',\n",
       " 'wants her step brother home im so worried you dont even know. i hope he knows how much i care for him...',\n",
       " 'heidimontag just got done watching the hills! loved it! excited for the next episode! and im sad this is the last season!',\n",
       " 'ryanmwilson aww that stinks! hugs',\n",
       " 'i m tired. i feel like crap. and the world feels all crummy. make me happy usb disco mouse.',\n",
       " 'i dont want to believe what im reading...buu so sad',\n",
       " 'wondering why gamebattles is down',\n",
       " 'white trash vs us... we were outnumbered. http twitpic.com y jp',\n",
       " 'emitstop so true i have it and don t use it',\n",
       " 'spring break is here at last but no one is here to celebrate',\n",
       " 'morning! bah car won t start.. waiting for the anwb....',\n",
       " 'katebornstein which is pretty anti memorial tattoos but for all but the strictest there s no official ban just disapproving family',\n",
       " 'balamurugan a longterm member of the team is leaving this month. we ll miss working with him hope he does well in his next venture',\n",
       " 'justgelo its sad knowing how they found her body. what a crazy world we live in. no child deserves that ya know.',\n",
       " 'i wanna rock a maxi dress coachella but lacking funding',\n",
       " 'of course the baby is screaming in the crib the night before my first day back at work. so i let him cry it out? boooo',\n",
       " 'i am home missing my baby busy week ahead fri is a chill day with my guy and kids egg hunt sat spiral and dmb sat night and easter!',\n",
       " 'followsavvy i never found her. everytime i click on her twitter thing through your myspace..... it goes to some dude s page',\n",
       " 'stephenkruiser that s horrible sorryto hear that.',\n",
       " 'david henrie i cant find it! it says dtmafiaofficial doesnt exist!there s jus dtmafia i found n u dun seem to b followin it wht to do?',\n",
       " 'i thought you would support me on this',\n",
       " 'augh eff sarth i stole some of mil s nail polish its pretty! o',\n",
       " 'wishes i was on the spring fling tour with dawn amp neecee sigh g knight',\n",
       " 'the hoyts distribution nz website isn t working for me. great. and it has to be like this when i need it most',\n",
       " 'crummyasshole i don t like that they only had him in the first movie cillian murphy is hot',\n",
       " 'wishes for good old cartoons to come back. ie captain planet! where s wally! daria! sadness',\n",
       " 'not feeling v good abt myself',\n",
       " 'i just got a text from sarah',\n",
       " 'another day at centre point this time an early start so guessing train will be rammed with commuters',\n",
       " 'four games this fall modern warfare halo odst brutal legend and bioshock i need more cash',\n",
       " 'd castillo ugh that s disconcerting',\n",
       " 'devinthedude actually the whole site has finally been taken over by those damn russians',\n",
       " 'my tweets arent going through',\n",
       " 'just finished a delicious breakfast my last in paris i ll miss milk europe has the tastiest milk in the world i don t drink it in us.',\n",
       " 'ilearn is down and out great considering finals are this week...',\n",
       " 'carmonium i m stressed outttt',\n",
       " 'also i shouldve bern asleep an hour ago',\n",
       " 'trying to figure out this twitter thing...none of my friends are on yet. soo much to see.',\n",
       " 're pinging kyle custom icons i made! look cool but the edges could be less square might look bad on a diff background',\n",
       " 'i want to be back in la',\n",
       " 'enterbelladonna i dunno how to use the forum and i get frustrated with it. i ll miss talking to you on here.',\n",
       " 'lilbucknuts not an option',\n",
       " 'georgeruiz unfortunately one of those moments wasn t a giant squid monster.',\n",
       " 'thestar rage i want one too is the branch in midv open too?',\n",
       " 'dananner aw sorry to hear that.',\n",
       " 'change of plans we ordered macs instead. time to hit the books!',\n",
       " 'polhillian yup.',\n",
       " 'nkdreamer did you see donnie s tweet stats? almost replies...and no jrk',\n",
       " 'tim grainger nah i haven t received my stimulus yet',\n",
       " 'ikimb i just seen ur tweet . plz write bak if u get this. i havnt got one reply bak',\n",
       " 'mccainblogette awwwww and you were trying to go to sleep hours ago',\n",
       " 'stephenkruiser i m so sorry to hear that. it s always sad when we lose those close to us as we loved them.',\n",
       " 'cant sleep but im still feelin like a piece of shit',\n",
       " 'stephenkruiser oh my sympathies. it s a hard decision. i always hope my old border collie will go in her sleep. she s too. hug',\n",
       " 'josephheustess ...well there was this really cool part where... i wont spoil it',\n",
       " 'limbecky i m doing the time warp without you and am sad.',\n",
       " 'theresawhite this is true lol but it s still a slap in the face after such a warm end of march',\n",
       " 'i hate converting movies just to put em on my itouch',\n",
       " 'gross i have a pimple',\n",
       " 'torturedlady yea ma naaaaaaaaaaaaaaaaaaaam marwan accent lol',\n",
       " 'one less follower tonight',\n",
       " 'unholyknight so did your mom last night. brb while i figure out whether i just burned you or myself the most.',\n",
       " 'i feel like i am the only quot twitterer quot not on tweetdeck.',\n",
       " 'wyldceltic he has karate tournament in weeks',\n",
       " 'going to sleep can t be up until am again...and no i didn t finish my statistics homework!',\n",
       " 'north carolina baby!! aint nothin stopping them but the nba draft',\n",
       " 'can t sleep again',\n",
       " 'i reaaly miss john mayer s twitters. fuck rude people. remove him if you don t like his tweets bitchfucks.',\n",
       " 'is going to have a late one at mqu today',\n",
       " 'im so tired of work...i need a life....',\n",
       " 'just leavin work my feet hurt',\n",
       " 'playradioplay that was so sad and unexpected. i totally cried haha.',\n",
       " 'superneej morning! bah car won t start.. waiting for the anwb....',\n",
       " 'still doing my homework!!!',\n",
       " 'a little sad',\n",
       " 'deepbluesealove my mom amp dad both get up around ...too early for me',\n",
       " 'should ve been asleep two hours ago',\n",
       " 'stephenkruiser so sorry to hear about your dog.',\n",
       " 'funny how the little things make me homesick criminals breakn n a brownstone on lawnord ci made me misty',\n",
       " 'djsoulsister yeah great vid. i had the quot single but sold it a few years ago',\n",
       " 'im on val s mac in iitsc clubroom. still sweating',\n",
       " 'stephenkruiser awww so sad!!! i m so sorry!!',\n",
       " 'updatingffe. that gives me nothing to do for a good twenty minutes!',\n",
       " 'hot compress not rily workng for pulled muscle gng to bed good night',\n",
       " 'have an invite for quot healthy dining quot session at ashok hotel today with exec chef r.chopra but damn workload will have to skip it!',\n",
       " 'stephenkruiser i m so sorry to hear about your dog wishing you happier days to come!',\n",
       " 'hellivina i miss em too.',\n",
       " 'misstoriblack cool i have no tweet apps for my razr',\n",
       " 'i m off too bed. i gotta wake up hella early tomorrow morning.',\n",
       " 'still procrastinating... i hate organizing my clothes there s just so much....',\n",
       " 'just been playing with the new mobbler v . . and it adds some great new features but won t play music on my e like v . . did',\n",
       " 'latroneb oh but there s one bestie missing',\n",
       " 'esuriospiritus time to come back to flawda for double dates! no seriously i m sorry to hear that.',\n",
       " 'i m up way to late to be working for a client am fb',\n",
       " 'blegghhhh i have to go to work',\n",
       " 'back at work john muir dr http loopt.us koqabg',\n",
       " 'dachesterfrench i emailed you yesterday and u never responded',\n",
       " 'it s going to be a long year for a s fans.',\n",
       " 'just got done watching the new house episode.definitely one of the saddest episodes ever.',\n",
       " 'man... taxes suck. i m horrified that i did something wrong on them. turbotax decided to keep around a lot of the stuff i turned off.',\n",
       " 'sleep time. tomorrow is gonna suck',\n",
       " 'wtf not kutner! oh i m so pissed house. i mean really wtf',\n",
       " 'amberpacific i know i dont know why i said that',\n",
       " 'cash rules everything around me',\n",
       " 'just picked up some oats from the market to eat for breakfast with my boy adamgoldston now time to do work at usc... late night',\n",
       " 'i feel sick too much icecream',\n",
       " 'faithgg this computer doesn t have shockwave...blah no account yet',\n",
       " 'rubyrose awww wish i could go! but its in sydney',\n",
       " 'luxuryprgal hahaha suriously! i feel like everyone knows this show is a joke except lc!',\n",
       " 'i just can t spell today i totally suck',\n",
       " 'are you vaccinated against chicken pox?should i vaccinate my yr old?i am so confused about this damn thing',\n",
       " 'school at least last day!!!!!!',\n",
       " 'yawwwn! gotta get up early tomorrow who s ready for the weekend???',\n",
       " 'i miss being at home for calving season...sad that black one died this morning wish i had some bottle calves!',\n",
       " 'stephenkruiser i so sorry for your loss. my brother dog sam is sick w cushings disease.',\n",
       " 'back to work. i get to spend the next hours alone in the dispatch room',\n",
       " 'there s a new kind of starburst favereds. sounds fab bc cherry and strawberry are my fav red s but they added watermellon and its yucky',\n",
       " 'well so much for being productive on my days off from angels',\n",
       " 'andreabakes oh gee insomnia sucks have you tried melatonin?',\n",
       " 'vivekg good to hear that we have support in netbeans. but then its netbeans you know',\n",
       " 'heidimontag i wish we would get it the same time at the rest of world. unfornately i am in cairo and have to wait for mtva to play it',\n",
       " 'heartbroken over little sandra. prayers are with the family.',\n",
       " 'hadtobeyou i m at words it s all can do i ll finish tomorrow maybe',\n",
       " 'shortiethug how come ur background covers the screen but mine is in the corner?',\n",
       " 'wrote exactly three lines of dialogue tonight then gave up.',\n",
       " 'ashman my only complaint about facebook is they ve changed it so much it s confusing',\n",
       " 'sliced my finger',\n",
       " 'going thru town and traffic on bypass is stink',\n",
       " 'ugh can t sleep. wish i had a good cuddle to make me ass out',\n",
       " 'i hate when software update downloads updates without telling me. i never know what s downloading when it is',\n",
       " 'went to ihop again. great for a diet at least there were no kung foo pancakes this time. rachel',\n",
       " 'the internet is hating me. night i s pose.',\n",
       " 'contactabe i m so jealous. i missed all of opening day this year',\n",
       " 'it s so cruel having to wait for reviews to come in. so far it looks like star trek will be the best film of the year!',\n",
       " 'debating if i should just shower now so i can sleep a little later tomorrow',\n",
       " 'my stress always culminates with physical pain.',\n",
       " 'need to sleep. but cant',\n",
       " 'my little pinky finger hurts so much..',\n",
       " 'sarahsaturday i m sorry your gift card ran out.... that suck.',\n",
       " 'home for spring break. no one is home tho',\n",
       " 'i accessed oneindia.mobi from a google phone android . it doesn t support indic languages',\n",
       " 'why does school take over your life so much you don t get sleep anymore .. i am still doing school work and have more to do as well',\n",
       " 'mtsiaklides aw i wish i could! i can t really speak to my yia yia because she doesn t speak english',\n",
       " 'winggato no free comp lol',\n",
       " 'getting ready to clean the house from top to bottom',\n",
       " 'crying my friend is moving away tomorrow',\n",
       " 'swiftkaratechop stop nomnoms!!!! ..you didn t share! night peoples!!',\n",
       " 'thinks she is getting a cold that she caught from daddy. oh no my trip would be ruined.',\n",
       " 'moony yeah is it bcoz kal penn is a visiting lecturer somewhere n cant be on the show anymore? im gonna miss him',\n",
       " 'so the procrastination starts early in the quarter. i don t want to reaaaaad and write a paper',\n",
       " 'what? apparently it s degress at pm in washington state. i miss winter already',\n",
       " 'being bored at homee',\n",
       " 'massage was great. i just spilled coke all over my desk lame. watching the simpsons as i ve finished all my hills dvds.',\n",
       " 'nick carter i will wait for you at fanclub chat.. even tough you re not my favorite',\n",
       " 'has a mild left inner ear infection.. and its got this irritating quot blocked quot feeling since sunday..',\n",
       " 'janebodehouse hey there! nope. my cuteness hoytfortenberry is away for awhile',\n",
       " 'it s only tuesday',\n",
       " 'haha not even yo. i just didn t know how to do that thang to you on twitter haha',\n",
       " 'someones alarm clock or a phone woke me up at am...still got my headache from yesterday night',\n",
       " 'kalichosich awww poor puppy is she ok?',\n",
       " 'i might break down and eat some buffalo wings tomorrow',\n",
       " 'sittin here w kayla i really really reallly dis like having a brother. he doesn t know when to stop. i m waiting for the day when one of',\n",
       " 'fed bokkie too many birthday treats sicko',\n",
       " 's kinda bummed. an agency just told me that i didn t have the look that they were going for. ladies please help me create the look',\n",
       " 'work laptop is officially dead .. not happy at all..',\n",
       " 'my goodness it s freezing down here !!!!!',\n",
       " 'heidimontag why do you put up with him!!!!! you should listen to your mom',\n",
       " 'is stucked in paris and can t even travel into france for work',\n",
       " 'joannafbeckett i don t think there s one close by. last time i checked the closest one was miles away!',\n",
       " 'aaaaand back to my literature review at least i have a friendly cup of coffee to keep me company.',\n",
       " 'i am worried that i won t get my even though i paid a buttload of tax last year !',\n",
       " 'okay so.. still no school!!!!',\n",
       " 'is phoneless ...now off too sleep',\n",
       " 'reeked of alcohol at the dentist this morning was drunk when i put on my tshirt realised it had a huge stain. dentist looked disgusted',\n",
       " 'it is really cold',\n",
       " 'cant sleep she wants to dream!!',\n",
       " 'can t sleep i hate these nights when i try to go to bed early and stay awake for hours. poo!',\n",
       " 'rootbeersoup yeah. too bad people like a certain burrito eating man exist.',\n",
       " 'cronotriggers that s sad.',\n",
       " 'just found out that my mum and my adopted auntie are on twitter.. check them out my mum is tessm and my awesome as auntie is tania',\n",
       " 'cannot sleep....wide awake!!...and i gotta go to work later too. boy am i going to have a crappy day.',\n",
       " 'struggling with eam law',\n",
       " 'why can t i sleep like her http twitpic.com y ty',\n",
       " 'bouts to start . poor linny couldn t keep her eyes open. she tired and has to work tomorrow morning. night ilovefatsusan.',\n",
       " 'my year old year old is driving me around the twist...i don t want to be like this',\n",
       " 'well that sucked.',\n",
       " 'i have to be out of my place in days...any help i can get packing painting cleaning is much appreciated. oh. and rip my wall',\n",
       " 'opening a partially frozen beer beer on the toaster under the oven and all over the counter. the kitchen smells like we run a speakeasy',\n",
       " 'stewiebrittany no i dont even know how to ride it',\n",
       " 'monasmith sadly yes. i think i need counciling now',\n",
       " 'making myself ready for school...don t feel like going but have two tests',\n",
       " 'smugness gone. my train also failed to turn up so i m heading for victoria followed by an unpleasant tube ride to the city.',\n",
       " 'anybody know where my ipod went?',\n",
       " 'aww this earthquake in italy has made me sad just saw the pics on the news it s terrible.',\n",
       " 'lilibat never been able to afford to get them out. i d much rather go through the extraction than continue with what i deal with now.',\n",
       " 'why do other pet care people try to run others out of business? or send suspicious e mails fishing for info?',\n",
       " 'kameelahwrites lt codez....they ve been mia tho',\n",
       " 'reannaremick doesnt work on my cell go to sleep! p',\n",
       " 'it s going to be nice again tomorrow and then the rain comes back. no nice weather for my birthday',\n",
       " 'taliasunset rock band is hard..on expert!!!',\n",
       " 'beachbassbone roomie was home all day. all he had to do was scratch at the door. comforter has to goto large laundromat machines.',\n",
       " 'one of the hardest thing with this schedule no one i can chat with at the end of my day usually',\n",
       " 'they killed off a character on one of my favorite shows and now i m upset',\n",
       " 'jealous of my friends who got to see the new star trek film in austin tonight.',\n",
       " 'listening to q! i got a really bad headache and a drivin lesson in ten mins.... lucky me i just wana sleeep!',\n",
       " 'steve buscemi shut up you...i am hungry! and in britain home of the most boring suckassy breakfast in the world! i miss dennys!!',\n",
       " 'good morning everybody! pkoi y fais pas beau bon coffee time!',\n",
       " 'work again',\n",
       " 'essay time....',\n",
       " 'chauncey hey did u talk to mom.. r they home yet? i hope they r ok.. wish i was coming home easter..',\n",
       " 'endearingevania i sure wish i could go with you guys tmrw. but as per usual school interferes.',\n",
       " 'widyatarina say what??? kal penn s leaving house?! noooooo!!! awww... i totally missed it tonight',\n",
       " 'no! i lost a loyal',\n",
       " 'played another hand very bad and lost half my stack',\n",
       " 'it s . pm early days in a looooooong night at work',\n",
       " 'yaykimo it s sad it s the last season. i wanna see when spencer calls lauren!',\n",
       " 'so im done editing quot the phipstape quot . back crack a brew and see what we got............. no trees though',\n",
       " 'rj i don t know what half of that means',\n",
       " 'homework homework homework',\n",
       " 'worked his heart out today doubling my weight at each station. result stiff and pulled muscles... ouch!',\n",
       " 'melamachinko now i feel bad for unfollowing.',\n",
       " 'so... tired... god i hate the new job and only two days in',\n",
       " 'sad about kutner being killed off my fav show house!',\n",
       " 'happy for coach stringer hof c o ! ...now if i can only finish my term paper on her',\n",
       " 'i feel like shit. this is not the way i want to spend my birthday s eve',\n",
       " 'so far i have on all my sites put together most of them were me checking out the updates i made......',\n",
       " 'has a lot on her mind. i needs to make some moneys. and ideas. nowhere is hiring!',\n",
       " 'emiliexclarkex miss you',\n",
       " 'stephenkruiser i m so sorry to hear about your dog',\n",
       " 'too much internet. how it plagues me',\n",
       " 'i miss my ex soo much',\n",
       " 'sodding m http twitpic.com y y',\n",
       " 'oh i thought the pirate bay trial verdict was today s apparently it s in days',\n",
       " 'featherinair call me back.',\n",
       " 'is in study hall now and i will log off immediately. http plurk.com p mzxbg',\n",
       " 'it so tired that im crying for no reason at all. im about to try to get an hour and a half in for tonight. half what i got last night.',\n",
       " 'i totally have like... four girl options and none of them seem viable',\n",
       " 'so far i have veiws on all my sites put together most of them were me checking out the updates i made......',\n",
       " 'listening to bjork s all is full of love... crying',\n",
       " 'omg the hills! then i love money aww i think becky buckwild goes',\n",
       " 'is craving for some tantan nabe http plurk.com p mzxcs',\n",
       " 'c mon sean man',\n",
       " 'watching quot a league of their own quot ...makes me miss mint chocolate ice cream cones and my grand ma fuck.',\n",
       " 'lost my phone some where.maybe in the grass its just so long hope it doesn t rain',\n",
       " 'tomatosalsa hope you aren t referring to me say hello to your new stalker lol',\n",
       " 'brettyboo why were u sleeping?! ur gonna be up all night now how was ur bike ride?',\n",
       " 'slessard but but but . . i wanna listen to the masters too!',\n",
       " 'sephystryx i ve been looking about for good stuff to write but also been doing loads of uni work',\n",
       " 'i feel unloved. dropped tweeters',\n",
       " 'off to london for the day on thursday it s gonna be raining oh fab won t see much on the london eye! still robbie won t care bless him',\n",
       " 'completely wiped and reloaded the .... lost all bbm contacts going to bed sad.',\n",
       " 'mykele sayyyy whaaaa? i wasn t invited...',\n",
       " 'didn t sleep too bad considering i have a workshop starting today. beginnings of a sore throat though',\n",
       " 'astewart oh my gosh that made me emotional haha idk why!!! i dont want to get old',\n",
       " 'we re going to post some stories manually due to twitterfeed problem. that s why we ve been so quiet lately ....',\n",
       " 'i don t like lukewarm showers',\n",
       " 'linuxfoundation who should i contact if i need a for freelance work i did on linux.com throughout ? never got one.',\n",
       " 'skylineking connor it s me febi are you really really mad at me??',\n",
       " 'need some help?! want to buy a macbook pro but still inlove with my old powerbook!',\n",
       " 'michaeltao man america is so .. borez anyway lol i just realized you sent me msgs on here. i had no idea. i have no flash',\n",
       " 'hellivina ihopness g knight lovely ladies. i m sleepy now',\n",
       " 'does anybody know how to get your electrolytes back in order? with a vitamin work? i feel sick.',\n",
       " 'sudam yes someone hasn t been reading my posts properly',\n",
       " 'almost through with my italian homework! weeeeee.... now if i only understood what i was doing.',\n",
       " 'who turned the lights on? it will be time to get ip then',\n",
       " 'therealnph twitter hates us both then.',\n",
       " 'i hate the fact that i m genuinely excited about my last tweet',\n",
       " 'celesteclara i can t sleep either',\n",
       " 'theblondetheory between that and the italy earthquake it s been a very sad news day.',\n",
       " 'champagnemanoir all rain today . garden really needs it so not quite so bad.',\n",
       " 'yawn yawn yawn!! more minutes in bed',\n",
       " 'majesticflame ouch sounds very sucky',\n",
       " 'bengottlieb great idea with the itunes promo codes they don t work in the uk itunes store though',\n",
       " 'mattycus cry',\n",
       " 'rumlover an empty rum barrel is a sad rum barrel. shakes head the horror the horror.',\n",
       " 'it was a sleepless night',\n",
       " 'billybush she admitted to being a fake',\n",
       " 'batmannn i love chutney......',\n",
       " 'got highly bored today scanning pages for daddy. had to do it!',\n",
       " 'misterphipps you cooked risotto without me!!???',\n",
       " 'keeeerrrrriiiiii!!!! i really have nothing better to do then post on this thing at am.....wonderfullll. says alot.',\n",
       " 'yay for baseball season! boo to yankees losing their first game',\n",
       " 'lost sucks ... because i have to work today',\n",
       " 'omg exams killed me how could i not know the difference between haif a circle and a hemisphere lt gt',\n",
       " 'in bed... i suddenly feel i wish ma was here w me... goodnight twitterfam',\n",
       " 'rachelcmrn i don t like goodnights',\n",
       " 'greaaat my lappy won t turn on wtffffff',\n",
       " 'm rkm you stuck in traffic then? my journey was traffic free this morning if it s any help.',\n",
       " 'lookin like an all nighter. i hate it when i do this to myself',\n",
       " 'vernonhamilton you re a stranger',\n",
       " 'debbugging old vb code the day could have started better . . .',\n",
       " 'toddlington only a quarter of a percent babe darn',\n",
       " 'coming down with a cold or bad allergies. either way i m miserable!',\n",
       " 'can t believe cutner is dead on house! sad day. in santa rosa ca http loopt.us orpl a',\n",
       " 'damnit i was really digging this season of reaper http www.tv.com story .html?ref story id amp ref type amp ref name story',\n",
       " 'gah comcast doubled our cable internet bill w out telling us so we are quitting. can anyone suggest an affordable company in bay area?',\n",
       " 'another early morn with the duchess although she hadn t managed to cross her legs this time',\n",
       " 'alexbigman you left without saying hi!',\n",
       " 'l want but i can t sleep',\n",
       " 'tracydowds when an xbox shows those three red lights it means it s dead and needs to be fixed for a month at microsoft hq.',\n",
       " 'a king sized bed is nice but sad and lonely with no hubby puppy or kitty i am over this whole conferenceing thing.',\n",
       " 'im boredd. gah i wish i could just sleep and get it over with but ive had toooo muchh cooooffffeeeeeeeee bahaha',\n",
       " 'whyinthehell if i may butt in again. i m done being nosey. sorry your conversation was just so interesting!',\n",
       " 'smokey robinson you fell off my list...did i offend you?',\n",
       " 'weeks till sisters home.. i missed her call again! its the worst feeling in the world.',\n",
       " 'gonna try to get some sleep in this hotel room',\n",
       " 'chimpytwit brilliant idea. just bring as much as you think you ll spend amp i ll swap you. bring a brolly',\n",
       " 'simonekali get me an autograph and shout out! you have to record it though. my computer is dead so i can t listen.',\n",
       " 'rt kimkardashian khloe just got fired from the apprentice',\n",
       " 'in biology class. my lip hurts',\n",
       " 'sorry for the next tweet...',\n",
       " 'grr not down to go to school today',\n",
       " 'jennlopez i had to get an hd tivo and just got it set up tonight in order to get channels .',\n",
       " 'mouthsex i asked everyone how they were doing yesterday and not a single tweet back',\n",
       " 'adame ruddy money!! i like it!! still waiting here.... oh what a surprise... by state too?? hmmm....... seriously!!',\n",
       " 'kal penn i am so sad kutner was my favorite of the new team!!',\n",
       " 'marcusmims wow i didn t get an quot hello quot u suck',\n",
       " 'bedtime school tomorrow and i still have no books being broke suckssss',\n",
       " 'seating here helping my baby with his papers...well he is forcing me too seat with him im sleepy',\n",
       " 'synching my contacts from my old mobile to iphone. import does not work well',\n",
       " 'i can t concentrate',\n",
       " 'i ve just spent hour to enter all the bureaucratic nonsense for march. what a waste of my time',\n",
       " 'nw more confused then ever!',\n",
       " 'not feeling well again. stupid migraine making my tummy upset. and my whole body aches shoot me now.',\n",
       " 'reading buyology before bedtime... great premise but only turning out to be an quot ok quot book lots of info i already knew',\n",
       " 'home! i really wana sleep but due to wasting my free line in town i have an assignment to finish',\n",
       " 'hellobebe i also send some updates in plurk but i upload photos on twitter! you didnt see any of my updates on plurk? zero?',\n",
       " 'omg... quot the reader quot is making me',\n",
       " 'cloudpimps d oh! at least you re getting a decent exchange rate at the moment sterling is still getting flogged',\n",
       " 'tried to download tweetdeck but it wont download',\n",
       " 'there s an inch of snow on the ground and counting . i m worried about the poor flowers',\n",
       " 'dweeman why aren t you a happy camper?',\n",
       " 'dkoenigs thanks man. i m so very grateful. i feel unworthy of such attention though because i m in this because of myself...',\n",
       " 't wolfe i miss u too. i m totally comin back tho! lastnight was sooooooo much fun!',\n",
       " 'sniffinglue ohhh. i love it. ps i m sad we didn t get to hang out',\n",
       " 'and somehow i still end up in this place',\n",
       " 'kisluvkis oh that is very sad poor boy.',\n",
       " ...]"
      ]
     },
     "execution_count": 10,
     "metadata": {},
     "output_type": "execute_result"
    }
   ],
   "source": [
    "corpus"
   ]
  },
  {
   "cell_type": "code",
   "execution_count": 44,
   "id": "9a69d7f1",
   "metadata": {
    "ExecuteTime": {
     "end_time": "2021-07-16T16:33:35.295500Z",
     "start_time": "2021-07-16T16:33:22.746950Z"
    }
   },
   "outputs": [
    {
     "name": "stdout",
     "output_type": "stream",
     "text": [
      "Collecting Gensim\n",
      "  Downloading gensim-4.0.1-cp38-cp38-win_amd64.whl (23.9 MB)\n",
      "Requirement already satisfied: scipy>=0.18.1 in c:\\users\\user\\anaconda3\\lib\\site-packages (from Gensim) (1.6.2)\n",
      "Requirement already satisfied: smart-open>=1.8.1 in c:\\users\\user\\anaconda3\\lib\\site-packages (from Gensim) (5.1.0)\n",
      "Collecting Cython==0.29.21\n",
      "  Downloading Cython-0.29.21-cp38-cp38-win_amd64.whl (1.7 MB)\n",
      "Requirement already satisfied: numpy>=1.11.3 in c:\\users\\user\\anaconda3\\lib\\site-packages (from Gensim) (1.20.2)\n",
      "Installing collected packages: Cython, Gensim\n",
      "  Attempting uninstall: Cython\n",
      "    Found existing installation: Cython 0.29.23\n",
      "    Uninstalling Cython-0.29.23:\n",
      "      Successfully uninstalled Cython-0.29.23\n",
      "Successfully installed Cython-0.29.21 Gensim-4.0.1\n"
     ]
    }
   ],
   "source": [
    "!pip install Gensim"
   ]
  },
  {
   "cell_type": "code",
   "execution_count": 46,
   "id": "6388b2df",
   "metadata": {
    "ExecuteTime": {
     "end_time": "2021-07-16T16:36:11.439912Z",
     "start_time": "2021-07-16T16:36:11.425033Z"
    }
   },
   "outputs": [
    {
     "data": {
      "text/plain": [
       "'from gensim import corpora\\ncorpora.MmCorpus.serialize(\"./Saving model trail 3\", corpus)'"
      ]
     },
     "execution_count": 46,
     "metadata": {},
     "output_type": "execute_result"
    }
   ],
   "source": [
    "\"\"\"from gensim import corpora\n",
    "corpora.MmCorpus.serialize(\"./Saving model trail 3\", corpus)\"\"\""
   ]
  },
  {
   "cell_type": "code",
   "execution_count": 47,
   "id": "1cba514d",
   "metadata": {
    "ExecuteTime": {
     "end_time": "2021-07-16T16:36:35.687717Z",
     "start_time": "2021-07-16T16:36:34.756586Z"
    }
   },
   "outputs": [],
   "source": [
    "with open('corpuss.pickle', 'wb') as f:\n",
    "    pickle.dump(corpus, f)"
   ]
  },
  {
   "cell_type": "markdown",
   "id": "38ba3edc",
   "metadata": {},
   "source": [
    "## Tokenization"
   ]
  },
  {
   "cell_type": "code",
   "execution_count": 12,
   "id": "09d60528",
   "metadata": {
    "ExecuteTime": {
     "end_time": "2021-07-16T12:28:37.283450Z",
     "start_time": "2021-07-16T11:57:34.304340Z"
    }
   },
   "outputs": [],
   "source": [
    "tokenizer = tfds.deprecated.text.SubwordTextEncoder.build_from_corpus(corpus, target_vocab_size=2**16)\n",
    "\n",
    "data_inputs = [tokenizer.encode(sentence) for sentence in corpus]"
   ]
  },
  {
   "cell_type": "markdown",
   "id": "0493b39f",
   "metadata": {},
   "source": [
    "## Padding"
   ]
  },
  {
   "cell_type": "code",
   "execution_count": 13,
   "id": "fa5848ec",
   "metadata": {
    "ExecuteTime": {
     "end_time": "2021-07-16T12:28:44.100818Z",
     "start_time": "2021-07-16T12:28:37.283450Z"
    }
   },
   "outputs": [],
   "source": [
    "MAX_LEN = max([len(sentence) for sentence in data_inputs])\n",
    "data_inputs = tf.keras.preprocessing.sequence.pad_sequences(data_inputs,value=0,padding=\"post\",maxlen=MAX_LEN)\n",
    "\n",
    "\n"
   ]
  },
  {
   "cell_type": "code",
   "execution_count": 14,
   "id": "b49ff53f",
   "metadata": {
    "ExecuteTime": {
     "end_time": "2021-07-16T12:28:44.115972Z",
     "start_time": "2021-07-16T12:28:44.100818Z"
    }
   },
   "outputs": [
    {
     "data": {
      "text/plain": [
       "(1600000, 73)"
      ]
     },
     "execution_count": 14,
     "metadata": {},
     "output_type": "execute_result"
    }
   ],
   "source": [
    "data_inputs.shape"
   ]
  },
  {
   "cell_type": "markdown",
   "id": "f419a14b",
   "metadata": {},
   "source": [
    "## Train - Test Split"
   ]
  },
  {
   "cell_type": "code",
   "execution_count": 15,
   "id": "4826ee5f",
   "metadata": {
    "ExecuteTime": {
     "end_time": "2021-07-16T12:28:44.478785Z",
     "start_time": "2021-07-16T12:28:44.117963Z"
    }
   },
   "outputs": [],
   "source": [
    "from sklearn.model_selection import train_test_split\n",
    "X_train, X_test, y_train, y_test = train_test_split(data_inputs, df_labels, test_size = 0.20, random_state = 100)"
   ]
  },
  {
   "cell_type": "markdown",
   "id": "c2e7be8a",
   "metadata": {},
   "source": [
    "# Model Building"
   ]
  },
  {
   "cell_type": "code",
   "execution_count": 16,
   "id": "29480685",
   "metadata": {
    "ExecuteTime": {
     "end_time": "2021-07-16T12:28:44.494783Z",
     "start_time": "2021-07-16T12:28:44.478785Z"
    }
   },
   "outputs": [],
   "source": [
    "class DCNN(tf.keras.Model):\n",
    "    \n",
    "    def __init__(self,\n",
    "                 vocab_size,\n",
    "                 emb_dim=128,\n",
    "                 nb_filters=50,\n",
    "                 FFN_units=512,\n",
    "                 nb_classes=2,\n",
    "                 dropout_rate=0.1,\n",
    "                 training=False,\n",
    "                 name=\"dcnn\"):\n",
    "        super(DCNN, self).__init__(name=name)\n",
    "        \n",
    "        self.embedding = layers.Embedding(vocab_size,\n",
    "                                          emb_dim)\n",
    "        self.bigram = layers.Conv1D(filters=nb_filters,\n",
    "                                    kernel_size=2,\n",
    "                                    padding=\"valid\",\n",
    "                                    activation=\"relu\")\n",
    "        self.trigram = layers.Conv1D(filters=nb_filters,\n",
    "                                     kernel_size=3,\n",
    "                                     padding=\"valid\",\n",
    "                                     activation=\"relu\")\n",
    "        self.fourgram = layers.Conv1D(filters=nb_filters,\n",
    "                                      kernel_size=4,\n",
    "                                      padding=\"valid\",\n",
    "                                      activation=\"relu\")\n",
    "        self.pool = layers.GlobalMaxPool1D() # no training variable so we can\n",
    "                                             # use the same layer for each\n",
    "                                             # pooling step\n",
    "        self.dense_1 = layers.Dense(units=FFN_units, activation=\"relu\")\n",
    "        self.dropout = layers.Dropout(rate=dropout_rate)\n",
    "        if nb_classes == 2:\n",
    "            self.last_dense = layers.Dense(units=1,\n",
    "                                           activation=\"sigmoid\")\n",
    "        else:\n",
    "            self.last_dense = layers.Dense(units=nb_classes,\n",
    "                                           activation=\"softmax\")\n",
    "    \n",
    "    def call(self, inputs, training):\n",
    "        x = self.embedding(inputs)\n",
    "        x_1 = self.bigram(x)\n",
    "        x_1 = self.pool(x_1)\n",
    "        x_2 = self.trigram(x)\n",
    "        x_2 = self.pool(x_2)\n",
    "        x_3 = self.fourgram(x)\n",
    "        x_3 = self.pool(x_3)\n",
    "        \n",
    "        merged = tf.concat([x_1, x_2, x_3], axis=-1) # (batch_size, 3 * nb_filters)\n",
    "        merged = self.dense_1(merged)\n",
    "        merged = self.dropout(merged, training)\n",
    "        output = self.last_dense(merged)\n",
    "        \n",
    "        return output"
   ]
  },
  {
   "cell_type": "code",
   "execution_count": 17,
   "id": "26812ff9",
   "metadata": {
    "ExecuteTime": {
     "end_time": "2021-07-16T12:28:44.525865Z",
     "start_time": "2021-07-16T12:28:44.496714Z"
    }
   },
   "outputs": [],
   "source": [
    "VOCAB_SIZE = tokenizer.vocab_size\n",
    "\n",
    "EMB_DIM = 200\n",
    "NB_FILTERS = 100\n",
    "FFN_UNITS = 300\n",
    "NB_CLASSES = 2#len(set(train_labels))\n",
    "\n",
    "DROPOUT_RATE = 0.2\n",
    "\n",
    "BATCH_SIZE = 70\n",
    "NB_EPOCHS = 1"
   ]
  },
  {
   "cell_type": "code",
   "execution_count": 18,
   "id": "9fe40e2f",
   "metadata": {
    "ExecuteTime": {
     "end_time": "2021-07-16T12:28:44.562140Z",
     "start_time": "2021-07-16T12:28:44.527779Z"
    }
   },
   "outputs": [],
   "source": [
    "Dcnn = DCNN(vocab_size=VOCAB_SIZE,\n",
    "            emb_dim=EMB_DIM,\n",
    "            nb_filters=NB_FILTERS,\n",
    "            FFN_units=FFN_UNITS,\n",
    "            nb_classes=NB_CLASSES,\n",
    "            dropout_rate=DROPOUT_RATE)"
   ]
  },
  {
   "cell_type": "code",
   "execution_count": 19,
   "id": "4fe92a28",
   "metadata": {
    "ExecuteTime": {
     "end_time": "2021-07-16T12:28:44.592846Z",
     "start_time": "2021-07-16T12:28:44.562140Z"
    }
   },
   "outputs": [],
   "source": [
    "if NB_CLASSES == 2:\n",
    "    Dcnn.compile(loss=\"binary_crossentropy\",\n",
    "                 optimizer=\"adam\",\n",
    "                 metrics=[\"accuracy\"])\n",
    "else:\n",
    "    Dcnn.compile(loss=\"sparse_categorical_crossentropy\",\n",
    "                 optimizer=\"adam\",\n",
    "                 metrics=[\"sparse_categorical_accuracy\"])"
   ]
  },
  {
   "cell_type": "markdown",
   "id": "b97332e8",
   "metadata": {},
   "source": [
    "# Creating Checkpoint"
   ]
  },
  {
   "cell_type": "code",
   "execution_count": 21,
   "id": "3d60f7c4",
   "metadata": {
    "ExecuteTime": {
     "end_time": "2021-07-16T12:42:48.819711Z",
     "start_time": "2021-07-16T12:42:48.809976Z"
    }
   },
   "outputs": [],
   "source": [
    "import os\n",
    "checkpoint_path = \"./Saving model trail 3\"\n",
    "checkpoint_dir = os.path.dirname(checkpoint_path)\n",
    "\n",
    "cp_callback= tf.keras.callbacks.ModelCheckpoint(checkpoint_path,save_weights_only=True,verbose = 1)\n",
    "\n"
   ]
  },
  {
   "cell_type": "markdown",
   "id": "8d2a3bb3",
   "metadata": {},
   "source": [
    "# Training The Model"
   ]
  },
  {
   "cell_type": "code",
   "execution_count": 22,
   "id": "ed372ddd",
   "metadata": {
    "ExecuteTime": {
     "end_time": "2021-07-16T14:09:10.831778Z",
     "start_time": "2021-07-16T12:42:52.329301Z"
    }
   },
   "outputs": [
    {
     "name": "stdout",
     "output_type": "stream",
     "text": [
      "18286/18286 [==============================] - ETA: 0s - loss: 0.4028 - accuracy: 0.8164\n",
      "Epoch 00001: saving model to .\\Saving model trail 3\n",
      "18286/18286 [==============================] - 5177s 283ms/step - loss: 0.4028 - accuracy: 0.8164\n"
     ]
    },
    {
     "data": {
      "text/plain": [
       "<tensorflow.python.keras.callbacks.History at 0x1ddf10b7b50>"
      ]
     },
     "execution_count": 22,
     "metadata": {},
     "output_type": "execute_result"
    }
   ],
   "source": [
    "Dcnn.fit(X_train,y_train,batch_size=BATCH_SIZE,epochs=NB_EPOCHS,callbacks= [cp_callback])"
   ]
  },
  {
   "cell_type": "markdown",
   "id": "9c167987",
   "metadata": {},
   "source": [
    "# Evaluating The Model"
   ]
  },
  {
   "cell_type": "code",
   "execution_count": 23,
   "id": "7c4e35f3",
   "metadata": {
    "ExecuteTime": {
     "end_time": "2021-07-16T14:14:12.168962Z",
     "start_time": "2021-07-16T14:12:20.964458Z"
    }
   },
   "outputs": [
    {
     "name": "stdout",
     "output_type": "stream",
     "text": [
      "4572/4572 [==============================] - 110s 24ms/step - loss: 0.3776 - accuracy: 0.8312\n",
      "[0.3775647282600403, 0.8311906456947327]\n"
     ]
    }
   ],
   "source": [
    "results = Dcnn.evaluate(X_test, y_test, batch_size=BATCH_SIZE)\n",
    "print(results)"
   ]
  },
  {
   "cell_type": "code",
   "execution_count": 24,
   "id": "062bd3e3",
   "metadata": {
    "ExecuteTime": {
     "end_time": "2021-07-16T14:14:23.795108Z",
     "start_time": "2021-07-16T14:14:23.781196Z"
    }
   },
   "outputs": [
    {
     "name": "stdout",
     "output_type": "stream",
     "text": [
      "BAD MOOD\n"
     ]
    }
   ],
   "source": [
    "if (Dcnn(np.array([tokenizer.encode(\"get the hell out of here\")]), training=False).numpy()>0.5) == False:\n",
    "    \n",
    "    print (\"BAD MOOD\")\n",
    "else:\n",
    "    print(\"GOOD MOOD\")"
   ]
  },
  {
   "cell_type": "code",
   "execution_count": 25,
   "id": "b85fd74d",
   "metadata": {
    "ExecuteTime": {
     "end_time": "2021-07-16T14:14:27.370879Z",
     "start_time": "2021-07-16T14:14:27.355837Z"
    }
   },
   "outputs": [
    {
     "data": {
      "text/plain": [
       "[662]"
      ]
     },
     "execution_count": 25,
     "metadata": {},
     "output_type": "execute_result"
    }
   ],
   "source": [
    "tokenizer.encode(\"love\")"
   ]
  },
  {
   "cell_type": "code",
   "execution_count": 28,
   "id": "d2f283f7",
   "metadata": {
    "ExecuteTime": {
     "end_time": "2021-07-16T14:15:44.704147Z",
     "start_time": "2021-07-16T14:15:44.657531Z"
    }
   },
   "outputs": [
    {
     "name": "stdout",
     "output_type": "stream",
     "text": [
      " Volume in drive C has no label.\n",
      " Volume Serial Number is B2D3-B6E1\n",
      "\n",
      " Directory of C:\\Users\\user\\Documents\\Sentiment analysis\n",
      "\n",
      "16-07-2021  19:44    <DIR>          .\n",
      "16-07-2021  19:44    <DIR>          ..\n",
      "16-07-2021  16:00    <DIR>          .ipynb_checkpoints\n",
      "16-07-2021  19:39                97 checkpoint\n",
      "16-07-2021  16:52    <DIR>          my_model.h5py\n",
      "16-07-2021  13:37    <DIR>          saved_model_Dcnn\n",
      "16-07-2021  16:42    <DIR>          Saving model trail 3\n",
      "16-07-2021  19:39       161,732,102 Saving model trail 3.data-00000-of-00001\n",
      "16-07-2021  19:39             2,726 Saving model trail 3.index\n",
      "16-07-2021  19:44           109,418 Sentiment Analysis.ipynb\n",
      "21-09-2019  02:36       238,803,811 training.1600000.csv\n",
      "               5 File(s)    400,648,154 bytes\n",
      "               6 Dir(s)  331,516,022,784 bytes free\n"
     ]
    }
   ],
   "source": [
    "!dir {checkpoint_dir}"
   ]
  },
  {
   "cell_type": "code",
   "execution_count": 41,
   "id": "67da5b09",
   "metadata": {
    "ExecuteTime": {
     "end_time": "2021-07-16T14:49:39.874015Z",
     "start_time": "2021-07-16T14:49:39.842259Z"
    }
   },
   "outputs": [
    {
     "data": {
      "text/plain": [
       "<tensorflow.python.training.tracking.util.CheckpointLoadStatus at 0x1dd810bcd60>"
      ]
     },
     "execution_count": 41,
     "metadata": {},
     "output_type": "execute_result"
    }
   ],
   "source": [
    "\"\"\"\n",
    "Reffer to checkpoint call back usage from : https://www.tensorflow.org/tutorials/keras/save_and_load\n",
    "\n",
    "\"\"\"\n",
    "model= DCNN(vocab_size=VOCAB_SIZE,\n",
    "            emb_dim=EMB_DIM,\n",
    "            nb_filters=NB_FILTERS,\n",
    "            FFN_units=FFN_UNITS,\n",
    "            nb_classes=NB_CLASSES,\n",
    "            dropout_rate=DROPOUT_RATE)\n",
    "model.load_weights(checkpoint_path)"
   ]
  },
  {
   "cell_type": "code",
   "execution_count": 40,
   "id": "5e5a6f07",
   "metadata": {
    "ExecuteTime": {
     "end_time": "2021-07-16T14:46:36.170320Z",
     "start_time": "2021-07-16T14:46:36.153802Z"
    }
   },
   "outputs": [
    {
     "data": {
      "text/plain": [
       "(320000, 73)"
      ]
     },
     "execution_count": 40,
     "metadata": {},
     "output_type": "execute_result"
    }
   ],
   "source": [
    "X_test.shape"
   ]
  },
  {
   "cell_type": "code",
   "execution_count": 42,
   "id": "52807cf1",
   "metadata": {
    "ExecuteTime": {
     "end_time": "2021-07-16T14:50:12.864516Z",
     "start_time": "2021-07-16T14:50:12.729571Z"
    }
   },
   "outputs": [
    {
     "name": "stdout",
     "output_type": "stream",
     "text": [
      "BAD MOOD\n"
     ]
    }
   ],
   "source": [
    "if (model(np.array([tokenizer.encode(\"get the hell out of here\")]), training=False).numpy()>0.5) == False:\n",
    "    \n",
    "    print (\"BAD MOOD\")\n",
    "else:\n",
    "    print(\"GOOD MOOD\")"
   ]
  },
  {
   "cell_type": "code",
   "execution_count": null,
   "id": "d4128902",
   "metadata": {},
   "outputs": [],
   "source": []
  }
 ],
 "metadata": {
  "kernelspec": {
   "display_name": "Python 3",
   "language": "python",
   "name": "python3"
  },
  "language_info": {
   "codemirror_mode": {
    "name": "ipython",
    "version": 3
   },
   "file_extension": ".py",
   "mimetype": "text/x-python",
   "name": "python",
   "nbconvert_exporter": "python",
   "pygments_lexer": "ipython3",
   "version": "3.8.8"
  },
  "notify_time": "10",
  "toc": {
   "base_numbering": 1,
   "nav_menu": {},
   "number_sections": true,
   "sideBar": true,
   "skip_h1_title": false,
   "title_cell": "Table of Contents",
   "title_sidebar": "Contents",
   "toc_cell": true,
   "toc_position": {
    "height": "calc(100% - 180px)",
    "left": "10px",
    "top": "150px",
    "width": "165px"
   },
   "toc_section_display": true,
   "toc_window_display": true
  }
 },
 "nbformat": 4,
 "nbformat_minor": 5
}
